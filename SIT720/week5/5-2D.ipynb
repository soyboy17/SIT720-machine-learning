{
 "cells": [
  {
   "cell_type": "markdown",
   "metadata": {},
   "source": [
    "# 5.2D\n",
    "\n",
    "**Background**\n",
    "The dataset provided consists of data collected from heavy Scania trucks. Each instance of the training set\n",
    "is classified as positive or negative. The positive class represents failures for the specific component\n",
    "considered, while negative instances represent trucks with failures for components not related to the APS.\n",
    "Based on this scenario, the goal is to develop a prediction model that minimises a total misclassification\n",
    "cost where there is a much greater cost for predicting false negatives (FNs) than false positives (FPs), namely\n",
    "500 and 10 units, respectively.\n",
    "\n",
    "**Dataset description**\n",
    "The attributes are as follows: class, then anonymised operational data. The operational data have an\n",
    "identifier and a bin id, like \"Identifier_Bin\". In total there are 171 attributes, of which 7 are histogram\n",
    "variabels. Missing values are denoted by \"na\"."
   ]
  },
  {
   "cell_type": "code",
   "execution_count": 1,
   "metadata": {},
   "outputs": [],
   "source": [
    "# Import modules\n",
    "import pandas as pd\n",
    "import numpy as np\n",
    "import matplotlib.pyplot as plt\n",
    "import seaborn as sns\n",
    "from sklearn.preprocessing import StandardScaler\n",
    "from sklearn.experimental import enable_iterative_imputer  # noqa\n",
    "from sklearn.impute import IterativeImputer, SimpleImputer\n",
    "from sklearn.linear_model import Ridge\n",
    "from sklearn.linear_model import LogisticRegression\n",
    "from sklearn.svm import SVC\n",
    "from sklearn.tree import DecisionTreeClassifier\n",
    "from sklearn.ensemble import RandomForestClassifier\n",
    "from sklearn.ensemble import VotingClassifier\n",
    "from sklearn.metrics import accuracy_score, confusion_matrix, classification_report, roc_auc_score, roc_curve, auc\n",
    "from itertools import product\n",
    "from sklearn.neighbors import KNeighborsClassifier\n",
    "from sklearn.naive_bayes import GaussianNB\n",
    "from sklearn.ensemble import AdaBoostClassifier\n",
    "from sklearn.neural_network import MLPClassifier\n",
    "\n",
    "#Ignore warnings\n",
    "import warnings\n",
    "warnings.filterwarnings('ignore')"
   ]
  },
  {
   "cell_type": "markdown",
   "metadata": {},
   "source": [
    "_**Training data**_"
   ]
  },
  {
   "cell_type": "code",
   "execution_count": 2,
   "metadata": {},
   "outputs": [
    {
     "name": "stdout",
     "output_type": "stream",
     "text": [
      "Data has 60000 rows with 171 columns\n"
     ]
    },
    {
     "data": {
      "text/html": [
       "<div>\n",
       "<style scoped>\n",
       "    .dataframe tbody tr th:only-of-type {\n",
       "        vertical-align: middle;\n",
       "    }\n",
       "\n",
       "    .dataframe tbody tr th {\n",
       "        vertical-align: top;\n",
       "    }\n",
       "\n",
       "    .dataframe thead th {\n",
       "        text-align: right;\n",
       "    }\n",
       "</style>\n",
       "<table border=\"1\" class=\"dataframe\">\n",
       "  <thead>\n",
       "    <tr style=\"text-align: right;\">\n",
       "      <th></th>\n",
       "      <th>class</th>\n",
       "      <th>aa_000</th>\n",
       "      <th>ab_000</th>\n",
       "      <th>ac_000</th>\n",
       "      <th>ad_000</th>\n",
       "      <th>ae_000</th>\n",
       "      <th>af_000</th>\n",
       "      <th>ag_000</th>\n",
       "      <th>ag_001</th>\n",
       "      <th>ag_002</th>\n",
       "      <th>...</th>\n",
       "      <th>ee_002</th>\n",
       "      <th>ee_003</th>\n",
       "      <th>ee_004</th>\n",
       "      <th>ee_005</th>\n",
       "      <th>ee_006</th>\n",
       "      <th>ee_007</th>\n",
       "      <th>ee_008</th>\n",
       "      <th>ee_009</th>\n",
       "      <th>ef_000</th>\n",
       "      <th>eg_000</th>\n",
       "    </tr>\n",
       "  </thead>\n",
       "  <tbody>\n",
       "    <tr>\n",
       "      <th>0</th>\n",
       "      <td>neg</td>\n",
       "      <td>76698</td>\n",
       "      <td>NaN</td>\n",
       "      <td>2.130706e+09</td>\n",
       "      <td>280.0</td>\n",
       "      <td>0.0</td>\n",
       "      <td>0.0</td>\n",
       "      <td>0.0</td>\n",
       "      <td>0.0</td>\n",
       "      <td>0.0</td>\n",
       "      <td>...</td>\n",
       "      <td>1240520.0</td>\n",
       "      <td>493384.0</td>\n",
       "      <td>721044.0</td>\n",
       "      <td>469792.0</td>\n",
       "      <td>339156.0</td>\n",
       "      <td>157956.0</td>\n",
       "      <td>73224.0</td>\n",
       "      <td>0.0</td>\n",
       "      <td>0.0</td>\n",
       "      <td>0.0</td>\n",
       "    </tr>\n",
       "    <tr>\n",
       "      <th>1</th>\n",
       "      <td>neg</td>\n",
       "      <td>33058</td>\n",
       "      <td>NaN</td>\n",
       "      <td>0.000000e+00</td>\n",
       "      <td>NaN</td>\n",
       "      <td>0.0</td>\n",
       "      <td>0.0</td>\n",
       "      <td>0.0</td>\n",
       "      <td>0.0</td>\n",
       "      <td>0.0</td>\n",
       "      <td>...</td>\n",
       "      <td>421400.0</td>\n",
       "      <td>178064.0</td>\n",
       "      <td>293306.0</td>\n",
       "      <td>245416.0</td>\n",
       "      <td>133654.0</td>\n",
       "      <td>81140.0</td>\n",
       "      <td>97576.0</td>\n",
       "      <td>1500.0</td>\n",
       "      <td>0.0</td>\n",
       "      <td>0.0</td>\n",
       "    </tr>\n",
       "    <tr>\n",
       "      <th>2</th>\n",
       "      <td>neg</td>\n",
       "      <td>41040</td>\n",
       "      <td>NaN</td>\n",
       "      <td>2.280000e+02</td>\n",
       "      <td>100.0</td>\n",
       "      <td>0.0</td>\n",
       "      <td>0.0</td>\n",
       "      <td>0.0</td>\n",
       "      <td>0.0</td>\n",
       "      <td>0.0</td>\n",
       "      <td>...</td>\n",
       "      <td>277378.0</td>\n",
       "      <td>159812.0</td>\n",
       "      <td>423992.0</td>\n",
       "      <td>409564.0</td>\n",
       "      <td>320746.0</td>\n",
       "      <td>158022.0</td>\n",
       "      <td>95128.0</td>\n",
       "      <td>514.0</td>\n",
       "      <td>0.0</td>\n",
       "      <td>0.0</td>\n",
       "    </tr>\n",
       "    <tr>\n",
       "      <th>3</th>\n",
       "      <td>neg</td>\n",
       "      <td>12</td>\n",
       "      <td>0.0</td>\n",
       "      <td>7.000000e+01</td>\n",
       "      <td>66.0</td>\n",
       "      <td>0.0</td>\n",
       "      <td>10.0</td>\n",
       "      <td>0.0</td>\n",
       "      <td>0.0</td>\n",
       "      <td>0.0</td>\n",
       "      <td>...</td>\n",
       "      <td>240.0</td>\n",
       "      <td>46.0</td>\n",
       "      <td>58.0</td>\n",
       "      <td>44.0</td>\n",
       "      <td>10.0</td>\n",
       "      <td>0.0</td>\n",
       "      <td>0.0</td>\n",
       "      <td>0.0</td>\n",
       "      <td>4.0</td>\n",
       "      <td>32.0</td>\n",
       "    </tr>\n",
       "    <tr>\n",
       "      <th>4</th>\n",
       "      <td>neg</td>\n",
       "      <td>60874</td>\n",
       "      <td>NaN</td>\n",
       "      <td>1.368000e+03</td>\n",
       "      <td>458.0</td>\n",
       "      <td>0.0</td>\n",
       "      <td>0.0</td>\n",
       "      <td>0.0</td>\n",
       "      <td>0.0</td>\n",
       "      <td>0.0</td>\n",
       "      <td>...</td>\n",
       "      <td>622012.0</td>\n",
       "      <td>229790.0</td>\n",
       "      <td>405298.0</td>\n",
       "      <td>347188.0</td>\n",
       "      <td>286954.0</td>\n",
       "      <td>311560.0</td>\n",
       "      <td>433954.0</td>\n",
       "      <td>1218.0</td>\n",
       "      <td>0.0</td>\n",
       "      <td>0.0</td>\n",
       "    </tr>\n",
       "  </tbody>\n",
       "</table>\n",
       "<p>5 rows × 171 columns</p>\n",
       "</div>"
      ],
      "text/plain": [
       "  class  aa_000  ab_000        ac_000  ad_000  ae_000  af_000  ag_000  ag_001  \\\n",
       "0   neg   76698     NaN  2.130706e+09   280.0     0.0     0.0     0.0     0.0   \n",
       "1   neg   33058     NaN  0.000000e+00     NaN     0.0     0.0     0.0     0.0   \n",
       "2   neg   41040     NaN  2.280000e+02   100.0     0.0     0.0     0.0     0.0   \n",
       "3   neg      12     0.0  7.000000e+01    66.0     0.0    10.0     0.0     0.0   \n",
       "4   neg   60874     NaN  1.368000e+03   458.0     0.0     0.0     0.0     0.0   \n",
       "\n",
       "   ag_002  ...     ee_002    ee_003    ee_004    ee_005    ee_006    ee_007  \\\n",
       "0     0.0  ...  1240520.0  493384.0  721044.0  469792.0  339156.0  157956.0   \n",
       "1     0.0  ...   421400.0  178064.0  293306.0  245416.0  133654.0   81140.0   \n",
       "2     0.0  ...   277378.0  159812.0  423992.0  409564.0  320746.0  158022.0   \n",
       "3     0.0  ...      240.0      46.0      58.0      44.0      10.0       0.0   \n",
       "4     0.0  ...   622012.0  229790.0  405298.0  347188.0  286954.0  311560.0   \n",
       "\n",
       "     ee_008  ee_009  ef_000  eg_000  \n",
       "0   73224.0     0.0     0.0     0.0  \n",
       "1   97576.0  1500.0     0.0     0.0  \n",
       "2   95128.0   514.0     0.0     0.0  \n",
       "3       0.0     0.0     4.0    32.0  \n",
       "4  433954.0  1218.0     0.0     0.0  \n",
       "\n",
       "[5 rows x 171 columns]"
      ]
     },
     "execution_count": 2,
     "metadata": {},
     "output_type": "execute_result"
    }
   ],
   "source": [
    "# Read in training data - exclude first 20 rows of metadata\n",
    "aps_train = pd.read_csv('../data/aps_failure_training_set.csv', header=14, na_values=[\"na\"])\n",
    "\n",
    "# Print dimensions\n",
    "rows, cols = aps_train.shape\n",
    "print(\"Data has {} rows with {} columns\".format(rows, cols))\n",
    "\n",
    "# Show head\n",
    "aps_train.head()"
   ]
  },
  {
   "cell_type": "code",
   "execution_count": 3,
   "metadata": {},
   "outputs": [
    {
     "name": "stdout",
     "output_type": "stream",
     "text": [
      "<class 'pandas.core.frame.DataFrame'>\n",
      "RangeIndex: 60000 entries, 0 to 59999\n",
      "Columns: 171 entries, class to eg_000\n",
      "dtypes: float64(169), int64(1), object(1)\n",
      "memory usage: 78.3+ MB\n"
     ]
    },
    {
     "data": {
      "text/plain": [
       "class      object\n",
       "aa_000      int64\n",
       "ab_000    float64\n",
       "ac_000    float64\n",
       "ad_000    float64\n",
       "           ...   \n",
       "ee_007    float64\n",
       "ee_008    float64\n",
       "ee_009    float64\n",
       "ef_000    float64\n",
       "eg_000    float64\n",
       "Length: 171, dtype: object"
      ]
     },
     "execution_count": 3,
     "metadata": {},
     "output_type": "execute_result"
    }
   ],
   "source": [
    "aps_train.info()\n",
    "aps_train.dtypes"
   ]
  },
  {
   "cell_type": "markdown",
   "metadata": {},
   "source": [
    "Target variable - 'class'"
   ]
  },
  {
   "cell_type": "code",
   "execution_count": 4,
   "metadata": {},
   "outputs": [
    {
     "name": "stdout",
     "output_type": "stream",
     "text": [
      "class values before mapping:  ['neg' 'pos']\n",
      "class values after mapping:  [0 1]\n"
     ]
    },
    {
     "data": {
      "image/png": "[encoded data removed]",
      "text/plain": [
       "<Figure size 640x480 with 1 Axes>"
      ]
     },
     "metadata": {},
     "output_type": "display_data"
    }
   ],
   "source": [
    "#Check unique values for 'class' feature - before mapping\n",
    "print('class values before mapping: ', aps_train['class'].unique())\n",
    "\n",
    "# Map class labels to 0 and 1\n",
    "aps_train['class'] = aps_train['class'].map({'neg': 0, 'pos': 1})\n",
    "\n",
    "#Check unique values for 'class' feature - after mapping\n",
    "print('class values after mapping: ', aps_train['class'].unique())\n",
    "\n",
    "# Count plot for class labels - training data\n",
    "sns.countplot(x='class', data=aps_train)\n",
    "plt.title('Class labels count plot - training data')\n",
    "plt.show()\n",
    "\n",
    "## 0 is neg - represents trucks with failures for components not related to the APS.\n",
    "## 1 is pos - represents failures for the specific component considered.\n",
    "## The plot below shows that most of the data is negative, only a very small proportion of the data is positive for 'class'.\n",
    "## This imbalance may cause problems for the models.\n"
   ]
  },
  {
   "cell_type": "code",
   "execution_count": 5,
   "metadata": {},
   "outputs": [
    {
     "name": "stdout",
     "output_type": "stream",
     "text": [
      "class         0\n",
      "aa_000        0\n",
      "ab_000    46329\n",
      "ac_000     3335\n",
      "ad_000    14861\n",
      "          ...  \n",
      "ee_007      671\n",
      "ee_008      671\n",
      "ee_009      671\n",
      "ef_000     2724\n",
      "eg_000     2723\n",
      "Length: 171, dtype: int64\n",
      "Training data has 60000 rows with 171 columns\n"
     ]
    }
   ],
   "source": [
    "#Check for missing values (includes NaN) - show all columns\n",
    "print(aps_train.isnull().sum()) \n",
    "\n",
    "#Print dimensions after before handling missing values\n",
    "rows, cols = aps_train.shape\n",
    "print(\"Training data has {} rows with {} columns\".format(rows, cols))\n",
    "\n",
    "## Before handling missing values, the data has 171 features and 60000 rows"
   ]
  },
  {
   "cell_type": "code",
   "execution_count": 6,
   "metadata": {},
   "outputs": [
    {
     "name": "stdout",
     "output_type": "stream",
     "text": [
      "Missing values by percentage:\n",
      "{'br_000': 82.10666666666667, 'bq_000': 81.20333333333333, 'bp_000': 79.56666666666666, 'bo_000': 77.22166666666666, 'ab_000': 77.215, 'cr_000': 77.215, 'bn_000': 73.34833333333333, 'bm_000': 65.915, 'bl_000': 45.461666666666666, 'bk_000': 38.39, 'ad_000': 24.768333333333334, 'cf_000': 24.768333333333334, 'cg_000': 24.768333333333334, 'ch_000': 24.768333333333334, 'co_000': 24.768333333333334, 'ct_000': 23.013333333333332, 'cu_000': 23.013333333333332, 'cv_000': 23.013333333333332, 'cx_000': 23.013333333333332, 'cy_000': 23.013333333333332, 'cz_000': 23.013333333333332, 'da_000': 23.013333333333332, 'db_000': 23.013333333333332, 'dc_000': 23.013333333333332, 'ec_00': 17.065, 'cm_000': 16.461666666666666, 'cl_000': 15.921666666666667, 'ed_000': 15.921666666666667, 'ak_000': 7.333333333333333, 'ca_000': 7.26, 'dm_000': 6.681666666666667, 'df_000': 6.68, 'dg_000': 6.68, 'dh_000': 6.68, 'dl_000': 6.68, 'dj_000': 6.678333333333334, 'dk_000': 6.678333333333334, 'eb_000': 6.678333333333334, 'di_000': 6.676666666666667, 'ac_000': 5.558333333333334, 'bx_000': 5.428333333333334, 'cc_000': 5.425, 'bd_000': 4.545, 'ds_000': 4.545, 'dt_000': 4.545, 'dp_000': 4.543333333333333, 'dq_000': 4.543333333333333, 'dr_000': 4.543333333333333, 'du_000': 4.543333333333333, 'dv_000': 4.543333333333333, 'bc_000': 4.541666666666667, 'cp_000': 4.54, 'de_000': 4.54, 'do_000': 4.54, 'dy_000': 4.54, 'ef_000': 4.54, 'ar_000': 4.538333333333333, 'bz_000': 4.538333333333333, 'dx_000': 4.538333333333333, 'dz_000': 4.538333333333333, 'ea_000': 4.538333333333333, 'eg_000': 4.538333333333333, 'be_000': 4.171666666666667, 'dd_000': 4.171666666666667, 'ce_000': 4.17, 'ax_000': 4.168333333333333, 'ae_000': 4.166666666666667, 'af_000': 4.166666666666667, 'av_000': 4.166666666666667, 'bf_000': 4.166666666666667, 'bs_000': 1.21, 'cb_000': 1.21, 'bu_000': 1.1516666666666666, 'bv_000': 1.1516666666666666, 'cq_000': 1.1516666666666666, 'dn_000': 1.1516666666666666, 'ba_000': 1.1466666666666667, 'ba_001': 1.1466666666666667, 'ba_002': 1.1466666666666667, 'ba_003': 1.1466666666666667, 'ba_004': 1.1466666666666667, 'ba_005': 1.1466666666666667, 'ba_006': 1.1466666666666667, 'ba_007': 1.1466666666666667, 'ba_008': 1.1466666666666667, 'ba_009': 1.1466666666666667, 'cn_000': 1.145, 'cn_001': 1.145, 'cn_002': 1.145, 'cn_003': 1.145, 'cn_004': 1.145, 'cn_005': 1.145, 'cn_006': 1.145, 'cn_007': 1.145, 'cn_008': 1.145, 'cn_009': 1.145, 'cd_000': 1.1266666666666667, 'ag_000': 1.1183333333333334, 'ag_001': 1.1183333333333334, 'ag_002': 1.1183333333333334, 'ag_003': 1.1183333333333334, 'ag_004': 1.1183333333333334, 'ag_005': 1.1183333333333334, 'ag_006': 1.1183333333333334, 'ag_007': 1.1183333333333334, 'ag_008': 1.1183333333333334, 'ag_009': 1.1183333333333334, 'ay_000': 1.1183333333333334, 'ay_001': 1.1183333333333334, 'ay_002': 1.1183333333333334, 'ay_003': 1.1183333333333334, 'ay_004': 1.1183333333333334, 'ay_005': 1.1183333333333334, 'ay_006': 1.1183333333333334, 'ay_007': 1.1183333333333334, 'ay_008': 1.1183333333333334, 'ay_009': 1.1183333333333334, 'az_000': 1.1183333333333334, 'az_001': 1.1183333333333334, 'az_002': 1.1183333333333334, 'az_003': 1.1183333333333334, 'az_004': 1.1183333333333334, 'az_005': 1.1183333333333334, 'az_006': 1.1183333333333334, 'az_007': 1.1183333333333334, 'az_008': 1.1183333333333334, 'az_009': 1.1183333333333334, 'ee_000': 1.1183333333333334, 'ee_001': 1.1183333333333334, 'ee_002': 1.1183333333333334, 'ee_003': 1.1183333333333334, 'ee_004': 1.1183333333333334, 'ee_005': 1.1183333333333334, 'ee_006': 1.1183333333333334, 'ee_007': 1.1183333333333334, 'ee_008': 1.1183333333333334, 'ee_009': 1.1183333333333334, 'cs_000': 1.115, 'cs_001': 1.115, 'cs_002': 1.115, 'cs_003': 1.115, 'cs_004': 1.115, 'cs_005': 1.115, 'cs_006': 1.115, 'cs_007': 1.115, 'cs_008': 1.115, 'cs_009': 1.115, 'ah_000': 1.075, 'bb_000': 1.075, 'al_000': 1.07, 'an_000': 1.07, 'ap_000': 1.07, 'bg_000': 1.07, 'bh_000': 1.07, 'ai_000': 1.0483333333333333, 'aj_000': 1.0483333333333333, 'am_0': 1.0483333333333333, 'as_000': 1.0483333333333333, 'at_000': 1.0483333333333333, 'au_000': 1.0483333333333333, 'ao_000': 0.9816666666666667, 'aq_000': 0.9816666666666667, 'bi_000': 0.9816666666666667, 'bj_000': 0.9816666666666667, 'by_000': 0.7883333333333333, 'ci_000': 0.5633333333333334, 'cj_000': 0.5633333333333334, 'ck_000': 0.5633333333333334, 'bt_000': 0.2783333333333333, 'class': 0.0, 'aa_000': 0.0}\n"
     ]
    },
    {
     "data": {
      "image/png": "[encoded data removed]",
      "text/plain": [
       "<Figure size 1200x600 with 1 Axes>"
      ]
     },
     "metadata": {},
     "output_type": "display_data"
    }
   ],
   "source": [
    "## Plot missing values by percentage\n",
    "\n",
    "# Calculate percentages and sort missing values\n",
    "missing = {key: list(aps_train.isna().sum()*100/aps_train.shape[0])[i] for i, key in enumerate(aps_train.columns)}\n",
    "missing = dict(sorted(missing.items(), key=lambda x: x[1], reverse=True))\n",
    "\n",
    "# Print missing values\n",
    "print('Missing values by percentage:')\n",
    "print(missing)\n",
    "\n",
    "missing_high = {key: val for key, val in missing.items() if val > 10}\n",
    "missing_low = {key: val for key, val in missing.items() if val < 10}\n",
    "\n",
    "#Plot missing values where missing > 10%\n",
    "plt.figure(figsize=(12,6))\n",
    "plt.xticks(rotation=90)\n",
    "plt.title('Missing values by percentage (missing > 10%)')\n",
    "plt.ylabel('Percentage missing (%)')\n",
    "sns.barplot(x=list(missing_high.keys()), y=list(missing_high.values()))\n",
    "plt.show()\n",
    "\n",
    "## The plot shows that some features have a lot of missing values, and a lot of features have some missing values.\n",
    "## 10 features have more than 30% missing values. 24 have more than 20% missing. 28 features have more than 10% missing values.\n",
    "## Missing values will also impact the model and so will need to be handled in some way."
   ]
  },
  {
   "cell_type": "code",
   "execution_count": 7,
   "metadata": {},
   "outputs": [
    {
     "name": "stdout",
     "output_type": "stream",
     "text": [
      "Features with more than 70% missing values dropped from training data: \n",
      " dict_keys(['br_000', 'bq_000', 'bp_000', 'bo_000', 'ab_000', 'cr_000', 'bn_000', 'bm_000', 'bl_000', 'bk_000', 'ad_000', 'cf_000', 'cg_000', 'ch_000', 'co_000', 'ct_000', 'cu_000', 'cv_000', 'cx_000', 'cy_000', 'cz_000', 'da_000', 'db_000', 'dc_000', 'ec_00', 'cm_000', 'cl_000', 'ed_000'])\n",
      "\n",
      "Features with less than 5% missing values dropped from training data: \n",
      " ['bd_000', 'ds_000', 'dt_000', 'dp_000', 'dq_000', 'dr_000', 'du_000', 'dv_000', 'bc_000', 'cp_000', 'de_000', 'do_000', 'dy_000', 'ef_000', 'ar_000', 'bz_000', 'dx_000', 'dz_000', 'ea_000', 'eg_000', 'be_000', 'dd_000', 'ce_000', 'ax_000', 'ae_000', 'af_000', 'av_000', 'bf_000', 'bs_000', 'cb_000', 'bu_000', 'bv_000', 'cq_000', 'dn_000', 'ba_000', 'ba_001', 'ba_002', 'ba_003', 'ba_004', 'ba_005', 'ba_006', 'ba_007', 'ba_008', 'ba_009', 'cn_000', 'cn_001', 'cn_002', 'cn_003', 'cn_004', 'cn_005', 'cn_006', 'cn_007', 'cn_008', 'cn_009', 'cd_000', 'ag_000', 'ag_001', 'ag_002', 'ag_003', 'ag_004', 'ag_005', 'ag_006', 'ag_007', 'ag_008', 'ag_009', 'ay_000', 'ay_001', 'ay_002', 'ay_003', 'ay_004', 'ay_005', 'ay_006', 'ay_007', 'ay_008', 'ay_009', 'az_000', 'az_001', 'az_002', 'az_003', 'az_004', 'az_005', 'az_006', 'az_007', 'az_008', 'az_009', 'ee_000', 'ee_001', 'ee_002', 'ee_003', 'ee_004', 'ee_005', 'ee_006', 'ee_007', 'ee_008', 'ee_009', 'cs_000', 'cs_001', 'cs_002', 'cs_003', 'cs_004', 'cs_005', 'cs_006', 'cs_007', 'cs_008', 'cs_009', 'ah_000', 'bb_000', 'al_000', 'an_000', 'ap_000', 'bg_000', 'bh_000', 'ai_000', 'aj_000', 'am_0', 'as_000', 'at_000', 'au_000', 'ao_000', 'aq_000', 'bi_000', 'bj_000', 'by_000', 'ci_000', 'cj_000', 'ck_000', 'bt_000', 'class', 'aa_000']\n",
      "\n",
      "Training data now has 55936 rows with 161 columns\n"
     ]
    }
   ],
   "source": [
    "# Drop features with more than 70% missing values\n",
    "print('Features with more than 70% missing values dropped from training data: \\n', missing_high.keys())\n",
    "aps_train.dropna(axis=1, thresh=0.7*aps_train.shape[0], inplace=True)\n",
    "\n",
    "# Drop specific rows for features with less than 5% missing\n",
    "under_5 = [k for k, v in missing.items() if v < 5]\n",
    "print('\\nFeatures with less than 5% missing values dropped from training data: \\n', under_5)\n",
    "aps_train.dropna(subset=under_5, inplace=True)\n",
    "\n",
    "#Print dimensions after before handling missing values\n",
    "rows, cols = aps_train.shape\n",
    "print(\"\\nTraining data now has {} rows with {} columns\".format(rows, cols))"
   ]
  },
  {
   "cell_type": "code",
   "execution_count": 8,
   "metadata": {},
   "outputs": [
    {
     "name": "stdout",
     "output_type": "stream",
     "text": [
      "X_train:  (55936, 160)\n",
      "y_train:  (55936,)\n",
      "scaled_X_train:  (55936, 160)\n"
     ]
    }
   ],
   "source": [
    "# Split the training data into X and y\n",
    "X_train = aps_train.drop('class', axis=1)\n",
    "y_train = aps_train['class']\n",
    "\n",
    "# Print dimensions\n",
    "print('X_train: ', X_train.shape)\n",
    "print('y_train: ', y_train.shape)\n",
    "\n",
    "# Standardise the data\n",
    "scaler = StandardScaler()\n",
    "scaled_X_train = scaler.fit_transform(X_train)\n",
    "\n",
    "print('scaled_X_train: ', scaled_X_train.shape)"
   ]
  },
  {
   "cell_type": "code",
   "execution_count": 9,
   "metadata": {},
   "outputs": [],
   "source": [
    "# Function to impute missing values using median for specified features and model-based imputation for the rest\n",
    "\n",
    "def impute_missing_values(df, missing_col):\n",
    "    \"\"\"\"\n",
    "    Parameters:\n",
    "        df (dataframe): Input dataframe with missing values.\n",
    "        missing_col (list): List of feature names with missing values to be imputed.\n",
    "\n",
    "    Returns:\n",
    "        imputed_df (dataframe): Dataframe with missing values imputed.\n",
    "        median_imputer (SimpleImputer): Median imputer instance.\n",
    "        mice_imputer (IterativeImputer): Model-based imputer instance.\n",
    "    \"\"\"\n",
    "    if df.empty:\n",
    "        raise ValueError(\"Input dataframe is empty\")\n",
    "    if not missing_col:\n",
    "        raise ValueError(\"Missing column list is empty\")\n",
    "\n",
    "    # Create median imputer instance\n",
    "    median_imputer = SimpleImputer(strategy='median')\n",
    "\n",
    "    median_df = median_imputer.fit_transform(df[missing_col])   # Impute missing values using column-wise medians\n",
    "    temp = df.copy()                                            # Create a copy of the dataframe\n",
    "    temp[missing_col] = median_df                               # Replace missing values in data_copy with imputed values from median_df\n",
    "\n",
    "    # Create a model-based imputer using Ridge estimator for missing data\n",
    "    mice_imputer = IterativeImputer(estimator=Ridge(random_state=0), random_state=0)\n",
    "\n",
    "    # Impute missing values using model-based imputer (MICE)\n",
    "    imputed_df = pd.DataFrame(data=mice_imputer.fit_transform(temp), columns=temp.columns)\n",
    "\n",
    "    return imputed_df, median_imputer, mice_imputer"
   ]
  },
  {
   "cell_type": "code",
   "execution_count": 12,
   "metadata": {},
   "outputs": [
    {
     "name": "stdout",
     "output_type": "stream",
     "text": [
      "Training data now has 55936 rows with 160 columns\n"
     ]
    }
   ],
   "source": [
    "## Impute remaining missing values in training data\n",
    "\n",
    "# Convert scaled_X_train to a dataframe\n",
    "X_train_df = pd.DataFrame(scaled_X_train, columns=X_train.columns)\n",
    "\n",
    "# Create a list of features with missing values between 5% to 15%\n",
    "median_imputed_features = [k for k, v in missing.items() if v >= 5 and v < 15]\n",
    "\n",
    "# Impute missing values for X_train_df, median_imputer and mice_imputer instances\n",
    "imputed_X_train, median_imputer, mice_imputer = impute_missing_values(X_train_df, median_imputed_features)\n",
    "\n",
    "#Print dimensions after imputing missing values\n",
    "rows, cols = imputed_X_train.shape\n",
    "print(\"Training data now has {} rows with {} columns\".format(rows, cols))"
   ]
  },
  {
   "cell_type": "markdown",
   "metadata": {},
   "source": [
    "_**Testing data**_"
   ]
  },
  {
   "cell_type": "code",
   "execution_count": 13,
   "metadata": {},
   "outputs": [
    {
     "name": "stdout",
     "output_type": "stream",
     "text": [
      "Before cleaning - test data has 16000 rows with 171 columns\n"
     ]
    },
    {
     "data": {
      "text/html": [
       "<div>\n",
       "<style scoped>\n",
       "    .dataframe tbody tr th:only-of-type {\n",
       "        vertical-align: middle;\n",
       "    }\n",
       "\n",
       "    .dataframe tbody tr th {\n",
       "        vertical-align: top;\n",
       "    }\n",
       "\n",
       "    .dataframe thead th {\n",
       "        text-align: right;\n",
       "    }\n",
       "</style>\n",
       "<table border=\"1\" class=\"dataframe\">\n",
       "  <thead>\n",
       "    <tr style=\"text-align: right;\">\n",
       "      <th></th>\n",
       "      <th>class</th>\n",
       "      <th>aa_000</th>\n",
       "      <th>ab_000</th>\n",
       "      <th>ac_000</th>\n",
       "      <th>ad_000</th>\n",
       "      <th>ae_000</th>\n",
       "      <th>af_000</th>\n",
       "      <th>ag_000</th>\n",
       "      <th>ag_001</th>\n",
       "      <th>ag_002</th>\n",
       "      <th>...</th>\n",
       "      <th>ee_002</th>\n",
       "      <th>ee_003</th>\n",
       "      <th>ee_004</th>\n",
       "      <th>ee_005</th>\n",
       "      <th>ee_006</th>\n",
       "      <th>ee_007</th>\n",
       "      <th>ee_008</th>\n",
       "      <th>ee_009</th>\n",
       "      <th>ef_000</th>\n",
       "      <th>eg_000</th>\n",
       "    </tr>\n",
       "  </thead>\n",
       "  <tbody>\n",
       "    <tr>\n",
       "      <th>0</th>\n",
       "      <td>0</td>\n",
       "      <td>60</td>\n",
       "      <td>0.0</td>\n",
       "      <td>20.0</td>\n",
       "      <td>12.0</td>\n",
       "      <td>0.0</td>\n",
       "      <td>0.0</td>\n",
       "      <td>0.0</td>\n",
       "      <td>0.0</td>\n",
       "      <td>0.0</td>\n",
       "      <td>...</td>\n",
       "      <td>1098.0</td>\n",
       "      <td>138.0</td>\n",
       "      <td>412.0</td>\n",
       "      <td>654.0</td>\n",
       "      <td>78.0</td>\n",
       "      <td>88.0</td>\n",
       "      <td>0.0</td>\n",
       "      <td>0.0</td>\n",
       "      <td>0.0</td>\n",
       "      <td>0.0</td>\n",
       "    </tr>\n",
       "    <tr>\n",
       "      <th>1</th>\n",
       "      <td>0</td>\n",
       "      <td>82</td>\n",
       "      <td>0.0</td>\n",
       "      <td>68.0</td>\n",
       "      <td>40.0</td>\n",
       "      <td>0.0</td>\n",
       "      <td>0.0</td>\n",
       "      <td>0.0</td>\n",
       "      <td>0.0</td>\n",
       "      <td>0.0</td>\n",
       "      <td>...</td>\n",
       "      <td>1068.0</td>\n",
       "      <td>276.0</td>\n",
       "      <td>1620.0</td>\n",
       "      <td>116.0</td>\n",
       "      <td>86.0</td>\n",
       "      <td>462.0</td>\n",
       "      <td>0.0</td>\n",
       "      <td>0.0</td>\n",
       "      <td>0.0</td>\n",
       "      <td>0.0</td>\n",
       "    </tr>\n",
       "    <tr>\n",
       "      <th>2</th>\n",
       "      <td>0</td>\n",
       "      <td>66002</td>\n",
       "      <td>2.0</td>\n",
       "      <td>212.0</td>\n",
       "      <td>112.0</td>\n",
       "      <td>0.0</td>\n",
       "      <td>0.0</td>\n",
       "      <td>0.0</td>\n",
       "      <td>0.0</td>\n",
       "      <td>0.0</td>\n",
       "      <td>...</td>\n",
       "      <td>495076.0</td>\n",
       "      <td>380368.0</td>\n",
       "      <td>440134.0</td>\n",
       "      <td>269556.0</td>\n",
       "      <td>1315022.0</td>\n",
       "      <td>153680.0</td>\n",
       "      <td>516.0</td>\n",
       "      <td>0.0</td>\n",
       "      <td>0.0</td>\n",
       "      <td>0.0</td>\n",
       "    </tr>\n",
       "    <tr>\n",
       "      <th>3</th>\n",
       "      <td>0</td>\n",
       "      <td>59816</td>\n",
       "      <td>NaN</td>\n",
       "      <td>1010.0</td>\n",
       "      <td>936.0</td>\n",
       "      <td>0.0</td>\n",
       "      <td>0.0</td>\n",
       "      <td>0.0</td>\n",
       "      <td>0.0</td>\n",
       "      <td>0.0</td>\n",
       "      <td>...</td>\n",
       "      <td>540820.0</td>\n",
       "      <td>243270.0</td>\n",
       "      <td>483302.0</td>\n",
       "      <td>485332.0</td>\n",
       "      <td>431376.0</td>\n",
       "      <td>210074.0</td>\n",
       "      <td>281662.0</td>\n",
       "      <td>3232.0</td>\n",
       "      <td>0.0</td>\n",
       "      <td>0.0</td>\n",
       "    </tr>\n",
       "    <tr>\n",
       "      <th>4</th>\n",
       "      <td>0</td>\n",
       "      <td>1814</td>\n",
       "      <td>NaN</td>\n",
       "      <td>156.0</td>\n",
       "      <td>140.0</td>\n",
       "      <td>0.0</td>\n",
       "      <td>0.0</td>\n",
       "      <td>0.0</td>\n",
       "      <td>0.0</td>\n",
       "      <td>0.0</td>\n",
       "      <td>...</td>\n",
       "      <td>7646.0</td>\n",
       "      <td>4144.0</td>\n",
       "      <td>18466.0</td>\n",
       "      <td>49782.0</td>\n",
       "      <td>3176.0</td>\n",
       "      <td>482.0</td>\n",
       "      <td>76.0</td>\n",
       "      <td>0.0</td>\n",
       "      <td>0.0</td>\n",
       "      <td>0.0</td>\n",
       "    </tr>\n",
       "  </tbody>\n",
       "</table>\n",
       "<p>5 rows × 171 columns</p>\n",
       "</div>"
      ],
      "text/plain": [
       "   class  aa_000  ab_000  ac_000  ad_000  ae_000  af_000  ag_000  ag_001  \\\n",
       "0      0      60     0.0    20.0    12.0     0.0     0.0     0.0     0.0   \n",
       "1      0      82     0.0    68.0    40.0     0.0     0.0     0.0     0.0   \n",
       "2      0   66002     2.0   212.0   112.0     0.0     0.0     0.0     0.0   \n",
       "3      0   59816     NaN  1010.0   936.0     0.0     0.0     0.0     0.0   \n",
       "4      0    1814     NaN   156.0   140.0     0.0     0.0     0.0     0.0   \n",
       "\n",
       "   ag_002  ...    ee_002    ee_003    ee_004    ee_005     ee_006    ee_007  \\\n",
       "0     0.0  ...    1098.0     138.0     412.0     654.0       78.0      88.0   \n",
       "1     0.0  ...    1068.0     276.0    1620.0     116.0       86.0     462.0   \n",
       "2     0.0  ...  495076.0  380368.0  440134.0  269556.0  1315022.0  153680.0   \n",
       "3     0.0  ...  540820.0  243270.0  483302.0  485332.0   431376.0  210074.0   \n",
       "4     0.0  ...    7646.0    4144.0   18466.0   49782.0     3176.0     482.0   \n",
       "\n",
       "     ee_008  ee_009  ef_000  eg_000  \n",
       "0       0.0     0.0     0.0     0.0  \n",
       "1       0.0     0.0     0.0     0.0  \n",
       "2     516.0     0.0     0.0     0.0  \n",
       "3  281662.0  3232.0     0.0     0.0  \n",
       "4      76.0     0.0     0.0     0.0  \n",
       "\n",
       "[5 rows x 171 columns]"
      ]
     },
     "execution_count": 13,
     "metadata": {},
     "output_type": "execute_result"
    }
   ],
   "source": [
    "# Read in test data set - exclude first 20 rows of metadata\n",
    "aps_test = pd.read_csv('aps_failure_test_set.csv', header=14, na_values=[\"na\"])\n",
    "\n",
    "# Print dimensions\n",
    "rows, cols = aps_test.shape\n",
    "print(\"Before cleaning - test data has {} rows with {} columns\".format(rows, cols))\n",
    "\n",
    "# Map class labels to 0 and 1\n",
    "aps_test['class'] = aps_test['class'].map({'neg': 0, 'pos': 1})\n",
    "\n",
    "# Show head\n",
    "aps_test.head()"
   ]
  },
  {
   "cell_type": "code",
   "execution_count": 14,
   "metadata": {},
   "outputs": [
    {
     "data": {
      "image/png": "[encoded data removed]",
      "text/plain": [
       "<Figure size 1200x600 with 1 Axes>"
      ]
     },
     "metadata": {},
     "output_type": "display_data"
    },
    {
     "name": "stdout",
     "output_type": "stream",
     "text": [
      "Features with more than 70% missing values dropped from training data: \n",
      " dict_keys(['br_000', 'bq_000', 'bp_000', 'bo_000', 'ab_000', 'cr_000', 'bn_000', 'bm_000', 'bl_000', 'bk_000', 'ad_000', 'cf_000', 'cg_000', 'ch_000', 'co_000', 'ct_000', 'cu_000', 'cv_000', 'cx_000', 'cy_000', 'cz_000', 'da_000', 'db_000', 'dc_000', 'ec_00', 'cm_000', 'cl_000', 'ed_000'])\n",
      "\n",
      "Features with less than 5% missing values dropped from test data: \n",
      " ['ar_000', 'bc_000', 'bd_000', 'de_000', 'do_000', 'dp_000', 'dq_000', 'dr_000', 'ds_000', 'dt_000', 'du_000', 'dv_000', 'dx_000', 'dy_000', 'bz_000', 'cp_000', 'dz_000', 'ea_000', 'ef_000', 'eg_000', 'ae_000', 'af_000', 'be_000', 'bf_000', 'av_000', 'ax_000', 'ce_000', 'dd_000', 'bs_000', 'cb_000', 'cn_000', 'cn_001', 'cn_002', 'cn_003', 'cn_004', 'cn_005', 'cn_006', 'cn_007', 'cn_008', 'cn_009', 'ba_000', 'ba_001', 'ba_002', 'ba_003', 'ba_004', 'ba_005', 'ba_006', 'ba_007', 'ba_008', 'ba_009', 'ay_000', 'ay_001', 'ay_002', 'ay_003', 'ay_004', 'ay_005', 'ay_006', 'ay_007', 'ay_008', 'ay_009', 'az_000', 'az_001', 'az_002', 'az_003', 'az_004', 'az_005', 'az_006', 'az_007', 'az_008', 'az_009', 'ee_000', 'ee_001', 'ee_002', 'ee_003', 'ee_004', 'ee_005', 'ee_006', 'ee_007', 'ee_008', 'ee_009', 'bu_000', 'bv_000', 'cq_000', 'dn_000', 'ag_000', 'ag_001', 'ag_002', 'ag_003', 'ag_004', 'ag_005', 'ag_006', 'ag_007', 'ag_008', 'ag_009', 'cs_000', 'cs_001', 'cs_002', 'cs_003', 'cs_004', 'cs_005', 'cs_006', 'cs_007', 'cs_008', 'cs_009', 'cd_000', 'ah_000', 'bb_000', 'al_000', 'an_000', 'ap_000', 'bg_000', 'bh_000', 'ai_000', 'aj_000', 'am_0', 'as_000', 'at_000', 'au_000', 'ao_000', 'aq_000', 'bi_000', 'bj_000', 'by_000', 'ci_000', 'cj_000', 'ck_000', 'bt_000', 'class', 'aa_000']\n",
      "\n",
      "Test data now has 14891 rows with 161 columns\n"
     ]
    }
   ],
   "source": [
    "## Handle missing values in test data\n",
    "\n",
    "# Calculate percentages and sort missing values\n",
    "missing = {key: list(aps_test.isna().sum()*100/aps_test.shape[0])[i] for i, key in enumerate(aps_test.columns)}\n",
    "missing = dict(sorted(missing.items(), key=lambda x: x[1], reverse=True))\n",
    "\n",
    "missing_high = {key: val for key, val in missing.items() if val > 10}\n",
    "missing_low = {key: val for key, val in missing.items() if val < 10}\n",
    "\n",
    "# Plot missing values where missing > 10%\n",
    "plt.figure(figsize=(12,6))\n",
    "plt.xticks(rotation=90)\n",
    "plt.title('Missing values by percentage (missing > 10%)')\n",
    "plt.ylabel('Percentage missing (%)')\n",
    "sns.barplot(x=list(missing_high.keys()), y=list(missing_high.values()))\n",
    "plt.show()\n",
    "\n",
    "# Drop features with more than 70% missing values\n",
    "print('Features with more than 70% missing values dropped from training data: \\n', missing_high.keys())\n",
    "aps_test.dropna(axis=1, thresh=0.7*aps_test.shape[0], inplace=True)\n",
    "\n",
    "# Drop specific rows for features with less than 5% missing\n",
    "under_5 = [k for k, v in missing.items() if v < 5]\n",
    "print('\\nFeatures with less than 5% missing values dropped from test data: \\n', under_5)\n",
    "aps_test.dropna(subset=under_5, inplace=True)\n",
    "\n",
    "#Print dimensions after before handling missing values\n",
    "rows, cols = aps_test.shape\n",
    "print(\"\\nTest data now has {} rows with {} columns\".format(rows, cols))\n"
   ]
  },
  {
   "cell_type": "code",
   "execution_count": 15,
   "metadata": {},
   "outputs": [],
   "source": [
    "# Split the testing data into X and y\n",
    "X_test = aps_test.drop('class', axis=1)\n",
    "y_test = aps_test['class']\n",
    "\n",
    "# Standardise the data\n",
    "scaler = StandardScaler()\n",
    "scaled_X_test = scaler.fit_transform(X_test)"
   ]
  },
  {
   "cell_type": "code",
   "execution_count": 16,
   "metadata": {},
   "outputs": [
    {
     "name": "stdout",
     "output_type": "stream",
     "text": [
      "Test data has 14891 rows with 160 columns\n"
     ]
    }
   ],
   "source": [
    "## Impute remaining missing values in test data\n",
    "\n",
    "# Convert scaled_X_test to a dataframe\n",
    "X_test_df = pd.DataFrame(scaled_X_test, columns=X_test.columns)\n",
    "\n",
    "# Create a list of features with missing values between 5% to 15%\n",
    "median_imputed_features = [k for k, v in missing.items() if v >= 5 and v < 15]\n",
    "\n",
    "# Impute missing vlaues for X_train, median_imputer and mice_imputer instances\n",
    "if scaled_X_test.size == 0:\n",
    "    raise ValueError(\"Input array is empty\")\n",
    "imputed_X_test, median_imputer, mice_imputer = impute_missing_values(X_test_df, median_imputed_features)\n",
    "\n",
    "#Print dimensions after imputing missing values\n",
    "rows, cols = imputed_X_test.shape\n",
    "print(\"Test data has {} rows with {} columns\".format(rows, cols))"
   ]
  },
  {
   "cell_type": "markdown",
   "metadata": {},
   "source": [
    "_**Question 1: What is the mechanism used by the Voting Classifier to aggregate predictions from multiple base\n",
    "models and their differences? Explain with suitable example. If predictions conflict among the base\n",
    "models, what strategies can be employed to resolve the conflicts and make more reliable final\n",
    "predictions in the Voting Classifier?**_"
   ]
  },
  {
   "cell_type": "code",
   "execution_count": 118,
   "metadata": {},
   "outputs": [
    {
     "name": "stdout",
     "output_type": "stream",
     "text": [
      "For solver=newton-cholesky, penalty=l2, C=0.001, model accuracy is 0.990\n",
      "For solver=newton-cholesky, penalty=l2, C=0.01, model accuracy is 0.992\n",
      "For solver=newton-cholesky, penalty=l2, C=0.1, model accuracy is 0.992\n",
      "For solver=newton-cholesky, penalty=l2, C=1, model accuracy is 0.993\n",
      "For solver=newton-cholesky, penalty=l2, C=10, model accuracy is 0.993\n",
      "For solver=newton-cholesky, penalty=l2, C=100, model accuracy is 0.992\n",
      "For solver=newton-cholesky, penalty=none, C=0.001, model accuracy is 0.992\n",
      "For solver=newton-cholesky, penalty=none, C=0.01, model accuracy is 0.992\n",
      "For solver=newton-cholesky, penalty=none, C=0.1, model accuracy is 0.992\n",
      "For solver=newton-cholesky, penalty=none, C=1, model accuracy is 0.992\n",
      "For solver=newton-cholesky, penalty=none, C=10, model accuracy is 0.992\n",
      "For solver=newton-cholesky, penalty=none, C=100, model accuracy is 0.992\n",
      "For solver=sag, penalty=l2, C=0.001, model accuracy is 0.990\n",
      "For solver=sag, penalty=l2, C=0.01, model accuracy is 0.990\n",
      "For solver=sag, penalty=l2, C=0.1, model accuracy is 0.990\n",
      "For solver=sag, penalty=l2, C=1, model accuracy is 0.990\n",
      "For solver=sag, penalty=l2, C=10, model accuracy is 0.990\n",
      "For solver=sag, penalty=l2, C=100, model accuracy is 0.990\n",
      "For solver=sag, penalty=none, C=0.001, model accuracy is 0.990\n",
      "For solver=sag, penalty=none, C=0.01, model accuracy is 0.990\n",
      "For solver=sag, penalty=none, C=0.1, model accuracy is 0.990\n",
      "For solver=sag, penalty=none, C=1, model accuracy is 0.990\n",
      "For solver=sag, penalty=none, C=10, model accuracy is 0.990\n",
      "For solver=sag, penalty=none, C=100, model accuracy is 0.990\n",
      "For solver=saga, penalty=l1, C=0.001, model accuracy is 0.986\n",
      "For solver=saga, penalty=l1, C=0.01, model accuracy is 0.990\n",
      "For solver=saga, penalty=l1, C=0.1, model accuracy is 0.990\n",
      "For solver=saga, penalty=l1, C=1, model accuracy is 0.990\n",
      "For solver=saga, penalty=l1, C=10, model accuracy is 0.990\n",
      "For solver=saga, penalty=l1, C=100, model accuracy is 0.990\n",
      "For solver=saga, penalty=l2, C=0.001, model accuracy is 0.990\n",
      "For solver=saga, penalty=l2, C=0.01, model accuracy is 0.990\n",
      "For solver=saga, penalty=l2, C=0.1, model accuracy is 0.990\n",
      "For solver=saga, penalty=l2, C=1, model accuracy is 0.990\n",
      "For solver=saga, penalty=l2, C=10, model accuracy is 0.990\n",
      "For solver=saga, penalty=l2, C=100, model accuracy is 0.990\n",
      "For solver=saga, penalty=none, C=0.001, model accuracy is 0.990\n",
      "For solver=saga, penalty=none, C=0.01, model accuracy is 0.990\n",
      "For solver=saga, penalty=none, C=0.1, model accuracy is 0.990\n",
      "For solver=saga, penalty=none, C=1, model accuracy is 0.990\n",
      "For solver=saga, penalty=none, C=10, model accuracy is 0.990\n",
      "For solver=saga, penalty=none, C=100, model accuracy is 0.990\n",
      "For solver=lbfgs, penalty=l2, C=0.001, model accuracy is 0.990\n",
      "For solver=lbfgs, penalty=l2, C=0.01, model accuracy is 0.992\n",
      "For solver=lbfgs, penalty=l2, C=0.1, model accuracy is 0.992\n",
      "For solver=lbfgs, penalty=l2, C=1, model accuracy is 0.992\n",
      "For solver=lbfgs, penalty=l2, C=10, model accuracy is 0.992\n",
      "For solver=lbfgs, penalty=l2, C=100, model accuracy is 0.992\n",
      "For solver=lbfgs, penalty=none, C=0.001, model accuracy is 0.992\n",
      "For solver=lbfgs, penalty=none, C=0.01, model accuracy is 0.992\n",
      "For solver=lbfgs, penalty=none, C=0.1, model accuracy is 0.992\n",
      "For solver=lbfgs, penalty=none, C=1, model accuracy is 0.992\n",
      "For solver=lbfgs, penalty=none, C=10, model accuracy is 0.992\n",
      "For solver=lbfgs, penalty=none, C=100, model accuracy is 0.992\n",
      "\n",
      "Best hyperparameters: {'solver': 'newton-cholesky', 'penalty': 'l2', 'C': 10}\n",
      "Best accuracy: 0.993\n"
     ]
    }
   ],
   "source": [
    "## Base models - logistic regression\n",
    "\n",
    "# Parameters to tune\n",
    "penalty = ['l1', 'l2', 'elasticnet', 'none'] # l1 is Lasso, l2 is Ridge\n",
    "C = [0.001, 0.01, 0.1, 1, 10, 100]\n",
    "solver = ['newton-cg', 'newton-cholesky', 'liblinear', 'sag', 'saga']\n",
    "\n",
    "# Store best results\n",
    "best_accuracy = 0 \n",
    "best_params = {}\n",
    "\n",
    "# Loop through parameters to find best model\n",
    "for s, p, c in product(solver, penalty, C):\n",
    "    # lbgfs, newton-cg, sag only take l2 or None penalty\n",
    "    # liblinear only takes l1 or l2 penalty\n",
    "    # saga takes all penalties\n",
    "    if s == 'lbfgs' or s == 'newton-cg' or s=='sag' and p != 'l2' and p != 'none':\n",
    "        continue\n",
    "    if s == 'liblinear' or s == 'newton-cholesky' and p != 'l2' and p != 'none':\n",
    "        continue\n",
    "    if s == 'saga' and p == 'elasticnet': #this combo not working, not sure why\n",
    "        continue\n",
    "    log_reg = LogisticRegression(solver=s, penalty=p, random_state=42, C=c)\n",
    "    log_reg.fit(imputed_X_train, y_train)\n",
    "    y_pred = log_reg.predict(imputed_X_test)\n",
    "    accuracy = accuracy_score(y_test, y_pred)\n",
    "    print(f\"For solver={s}, penalty={p}, C={c}, model accuracy is {accuracy:.3f}\")\n",
    "\n",
    "    # Compare accuracy to current best, replace if higher\n",
    "    if accuracy > best_accuracy:\n",
    "        best_accuracy = accuracy\n",
    "        best_params = {'solver': s, 'penalty': p, 'C': c}\n",
    "\n",
    "# Loop through parameters to find best model - only run for lbgfs this time\n",
    "penalty = ['l2', 'none']\n",
    "solver = ['lbfgs']\n",
    "for s, p, c in product(solver, penalty, C):\n",
    "    log_reg = LogisticRegression(solver=s, penalty=p, C=c, random_state=42)\n",
    "    log_reg.fit(imputed_X_train, y_train)\n",
    "    y_pred = log_reg.predict(imputed_X_test)\n",
    "    accuracy = accuracy_score(y_test, y_pred)\n",
    "    print(f\"For solver={s}, penalty={p}, C={c}, model accuracy is {accuracy:.3f}\")\n",
    "\n",
    "    # Compare accuracy to current best, replace if higher\n",
    "    if accuracy > best_accuracy:\n",
    "        best_accuracy = accuracy\n",
    "        best_params = {'solver': s, 'penalty': p, 'C': c}\n",
    "\n",
    "# Print the best hyperparameter combo and accuracy for that combo\n",
    "print(f\"\\nBest hyperparameters: {best_params}\")\n",
    "print(f\"Best accuracy: {best_accuracy:.3f}\")\n",
    "\n",
    "# Best hyperparameters: {'solver': 'newton-cholesky', 'penalty': 'l2', 'C': 10}\n",
    "# Best accuracy: 0.993"
   ]
  },
  {
   "cell_type": "code",
   "execution_count": 17,
   "metadata": {},
   "outputs": [
    {
     "name": "stdout",
     "output_type": "stream",
     "text": [
      "Accuracy:  0.993\n",
      "\n",
      "Classification report: \n",
      "               precision    recall  f1-score   support\n",
      "\n",
      "           0       0.99      1.00      1.00     14669\n",
      "           1       0.81      0.66      0.73       222\n",
      "\n",
      "    accuracy                           0.99     14891\n",
      "   macro avg       0.90      0.83      0.86     14891\n",
      "weighted avg       0.99      0.99      0.99     14891\n",
      "\n"
     ]
    }
   ],
   "source": [
    "# Optimally tuned logistic regression model\n",
    "log_reg = LogisticRegression(solver='newton-cholesky', penalty='l2', C=10, random_state=42)\n",
    "log_reg.fit(imputed_X_train, y_train)\n",
    "y_pred = log_reg.predict(imputed_X_test)\n",
    "\n",
    "# Performance metrics\n",
    "print('Accuracy: ', round(accuracy_score(y_test, y_pred), 3))\n",
    "print('\\nClassification report: \\n', classification_report(y_test, y_pred))\n",
    "\n",
    "## Accuracy: 0.993"
   ]
  },
  {
   "cell_type": "code",
   "execution_count": 120,
   "metadata": {},
   "outputs": [
    {
     "name": "stdout",
     "output_type": "stream",
     "text": [
      "For criterion=gini, max_features=sqrt, model accuracy is 0.993\n",
      "For criterion=gini, max_features=log2, model accuracy is 0.993\n",
      "For criterion=gini, max_features=None, model accuracy is 0.993\n",
      "For criterion=entropy, max_features=sqrt, model accuracy is 0.993\n",
      "For criterion=entropy, max_features=log2, model accuracy is 0.992\n",
      "For criterion=entropy, max_features=None, model accuracy is 0.993\n",
      "For criterion=log_loss, max_features=sqrt, model accuracy is 0.993\n",
      "For criterion=log_loss, max_features=log2, model accuracy is 0.992\n",
      "For criterion=log_loss, max_features=None, model accuracy is 0.993\n",
      "\n",
      "Best hyperparameters: {'criterion': 'gini', 'max_features': None}\n",
      "Best accuracy: 0.993\n"
     ]
    }
   ],
   "source": [
    "## Base model - RandomForestClassifier\n",
    "\n",
    "# Parameters to tune\n",
    "#n_estimators = [10, 20, 50, 100, 500, 1000, 2000] # runtime too long, running in next cell instead\n",
    "criterion = ['gini', 'entropy', 'log_loss']\n",
    "max_features = ['sqrt', 'log2', None]\n",
    "\n",
    "# Store best results\n",
    "best_accuracy = 0 \n",
    "best_params = {}\n",
    "\n",
    "# Loop through parameters to find best model\n",
    "for c, m in product(criterion, max_features):\n",
    "    rand_forest = RandomForestClassifier(criterion=c, max_features=m, random_state=42)\n",
    "    rand_forest.fit(imputed_X_train, y_train)\n",
    "    y_pred = rand_forest.predict(imputed_X_test)\n",
    "    accuracy = accuracy_score(y_test, y_pred)\n",
    "    print(f\"For criterion={c}, max_features={m}, model accuracy is {accuracy:.3f}\")\n",
    "\n",
    "    # Compare accuracy to current best, replace if higher\n",
    "    if accuracy > best_accuracy:\n",
    "        best_accuracy = accuracy\n",
    "        best_params = {'criterion': c, 'max_features': m}\n",
    "\n",
    "# Print the best hyperparameter combo and accuracy for that combo\n",
    "print(f\"\\nBest hyperparameters: {best_params}\")\n",
    "print(f\"Best accuracy: {best_accuracy:.3f}\")\n",
    "\n",
    "## Best hyperparameters: {'criterion': 'gini', 'max_features': None}\n",
    "## Best accuracy: 0.993"
   ]
  },
  {
   "cell_type": "code",
   "execution_count": 122,
   "metadata": {},
   "outputs": [
    {
     "name": "stdout",
     "output_type": "stream",
     "text": [
      "For n_estimators=10, criterion=gini, max_features=None, model accuracy is 0.992\n",
      "For n_estimators=50, criterion=gini, max_features=None, model accuracy is 0.993\n",
      "For n_estimators=100, criterion=gini, max_features=None, model accuracy is 0.993\n",
      "For n_estimators=1000, criterion=gini, max_features=None, model accuracy is 0.994\n",
      "\n",
      "Best hyperparameters: {'n_estimators': 1000, 'criterion': 'gini', 'max_features': None}\n",
      "Best accuracy: 0.994\n"
     ]
    }
   ],
   "source": [
    "## Base model - RandomForestClassifier - n_estimators\n",
    "\n",
    "# Parameters to tune\n",
    "n_estimators = [10, 50, 100, 1000]\n",
    "criterion = ['gini']\n",
    "max_features = [None]\n",
    "\n",
    "# Store best results\n",
    "best_accuracy = 0 \n",
    "best_params = {}\n",
    "\n",
    "# Loop through parameters to find best model\n",
    "for n, c, m in product(n_estimators, criterion, max_features):\n",
    "    rand_forest = RandomForestClassifier(n_estimators=n, criterion=c, max_features=m, random_state=42)\n",
    "    rand_forest.fit(imputed_X_train, y_train)\n",
    "    y_pred = rand_forest.predict(imputed_X_test)\n",
    "    accuracy = accuracy_score(y_test, y_pred)\n",
    "    print(f\"For n_estimators={n}, criterion={c}, max_features={m}, model accuracy is {accuracy:.3f}\")\n",
    "\n",
    "    # Compare accuracy to current best, replace if higher\n",
    "    if accuracy > best_accuracy:\n",
    "        best_accuracy = accuracy\n",
    "        best_params = {'n_estimators': n, 'criterion': c, 'max_features': m}\n",
    "\n",
    "# Print the best hyperparameter combo and accuracy for that combo\n",
    "print(f\"\\nBest hyperparameters: {best_params}\")\n",
    "print(f\"Best accuracy: {best_accuracy:.3f}\")\n",
    "\n",
    "# Best hyperparameters: {'n_estimators': 2000, 'criterion': 'gini', 'max_features': None}\n",
    "# Best accuracy: 0.994"
   ]
  },
  {
   "cell_type": "code",
   "execution_count": 18,
   "metadata": {},
   "outputs": [
    {
     "name": "stdout",
     "output_type": "stream",
     "text": [
      "Accuracy:  0.994\n",
      "\n",
      "Classification report: \n",
      "               precision    recall  f1-score   support\n",
      "\n",
      "           0       0.99      1.00      1.00     14669\n",
      "           1       0.90      0.66      0.76       222\n",
      "\n",
      "    accuracy                           0.99     14891\n",
      "   macro avg       0.95      0.83      0.88     14891\n",
      "weighted avg       0.99      0.99      0.99     14891\n",
      "\n"
     ]
    }
   ],
   "source": [
    "# Optimally tuned random forest model\n",
    "rand_forest = RandomForestClassifier(n_estimators=1000, criterion='gini', max_features=None, random_state=42)\n",
    "rand_forest.fit(imputed_X_train, y_train)\n",
    "y_pred = rand_forest.predict(imputed_X_test)\n",
    "\n",
    "# Performance metrics\n",
    "print('Accuracy: ', round(accuracy_score(y_test, y_pred), 3))\n",
    "print('\\nClassification report: \\n', classification_report(y_test, y_pred))\n",
    "\n",
    "## Accuracy: 0.994"
   ]
  },
  {
   "cell_type": "code",
   "execution_count": 19,
   "metadata": {},
   "outputs": [],
   "source": [
    "# Run and fit VotingClassifier using hard voting\n",
    "voting_clf_hard = VotingClassifier(estimators=[('log_reg', log_reg), ('rand_forest', rand_forest)], voting='hard')\n",
    "voting_clf_hard.fit(imputed_X_train, y_train)\n",
    "y_pred_hard = voting_clf_hard.predict(imputed_X_test)\n",
    "\n",
    "# Performance metrics\n",
    "print('Accuracy: ', round(accuracy_score(y_test, y_pred), 3))\n",
    "print('\\nClassification report: \\n', classification_report(y_test, y_pred_hard))\n",
    "\n",
    "## Accuracy: 0.993 \n"
   ]
  },
  {
   "cell_type": "code",
   "execution_count": null,
   "metadata": {},
   "outputs": [],
   "source": [
    "# Function to calculate cost of misclassification (based on confusion matrix from https://archive.ics.uci.edu/dataset/421/aps+failure+at+scania+trucks)\n",
    "def calculate_total_cost(y_true, y_pred, cost_1=10, cost_2=500):\n",
    "    '''\n",
    "    Calculate the total cost based on the confusion matrix and specified costs.\n",
    "\n",
    "    Parameters:\n",
    "    - y_true: True labels\n",
    "    - y_pred_soft: Predicted labels\n",
    "    - cost_1: Cost associated with false positives (default: 10)\n",
    "    - cost_2: Cost associated with false negatives (default: 500)\n",
    "\n",
    "    Returns:\n",
    "    - total_cost: Total cost\n",
    "    '''\n",
    "\n",
    "    true_neg, false_pos, false_neg, true_pos = confusion_matrix(y_true, y_pred).ravel()\n",
    "    total_cost = cost_1 * false_pos + cost_2 * false_neg\n",
    "    return total_cost"
   ]
  },
  {
   "cell_type": "code",
   "execution_count": null,
   "metadata": {},
   "outputs": [],
   "source": [
    "## Predict cost of misclassification (hard voting) - using function\n",
    "\n",
    "print('Total cost: $', calculate_total_cost(y_test, y_pred_hard))"
   ]
  },
  {
   "cell_type": "code",
   "execution_count": null,
   "metadata": {},
   "outputs": [
    {
     "name": "stdout",
     "output_type": "stream",
     "text": [
      "Total cost: $ 49100\n"
     ]
    }
   ],
   "source": [
    "## Predict cost of misclassification - using voting_clf_hard\n",
    "\n",
    "Cost_1 = 10\n",
    "Cost_2 = 500\n",
    "\n",
    "true_neg, false_pos, false_neg, true_pos = confusion_matrix(y_test, y_pred_hard).ravel()\n",
    "\n",
    "# Print total cost\n",
    "# Total_cost = Cost_1 * No_Instances + Cost_2 * No_Instances\n",
    "print('Total cost: $', (Cost_1*false_pos + Cost_2*false_neg))"
   ]
  },
  {
   "cell_type": "code",
   "execution_count": null,
   "metadata": {},
   "outputs": [
    {
     "name": "stdout",
     "output_type": "stream",
     "text": [
      "Accuracy:  0.994\n",
      "\n",
      "Classification report: \n",
      "               precision    recall  f1-score   support\n",
      "\n",
      "           0       1.00      1.00      1.00     14669\n",
      "           1       0.85      0.68      0.75       222\n",
      "\n",
      "    accuracy                           0.99     14891\n",
      "   macro avg       0.92      0.84      0.88     14891\n",
      "weighted avg       0.99      0.99      0.99     14891\n",
      "\n"
     ]
    }
   ],
   "source": [
    "# Run and fit VotingClassifier using soft voting\n",
    "voting_clf_soft = VotingClassifier(estimators=[('log_reg', log_reg), ('rand_forest', rand_forest)], voting='soft')\n",
    "voting_clf_soft.fit(imputed_X_train, y_train)\n",
    "y_pred_soft = voting_clf_soft.predict(imputed_X_test)\n",
    "\n",
    "# Performance metrics\n",
    "print('Accuracy: ', round(accuracy_score(y_test, y_pred), 3))\n",
    "print('\\nClassification report: \\n', classification_report(y_test, y_pred_soft))\n",
    "\n",
    "## Accuracy: 0.993"
   ]
  },
  {
   "cell_type": "code",
   "execution_count": null,
   "metadata": {},
   "outputs": [],
   "source": [
    "## Predict cost of misclassification (soft voting) - using function\n",
    "\n",
    "print('Total cost: $', calculate_total_cost(y_test, y_pred_soft))"
   ]
  },
  {
   "cell_type": "code",
   "execution_count": null,
   "metadata": {},
   "outputs": [
    {
     "name": "stdout",
     "output_type": "stream",
     "text": [
      "Total cost: $ 36260\n"
     ]
    }
   ],
   "source": [
    "## Predict cost of misclassification (soft voting)\n",
    "\n",
    "Cost_1 = 10\n",
    "Cost_2 = 500\n",
    "\n",
    "true_neg, false_pos, false_neg, true_pos = confusion_matrix(y_test, y_pred_soft).ravel()\n",
    "\n",
    "# Print total cost\n",
    "# Total_cost = Cost_1 * No_Instances + Cost_2 * No_Instances\n",
    "print('Total cost: $', (Cost_1*false_pos + Cost_2*false_neg))\n"
   ]
  },
  {
   "cell_type": "markdown",
   "metadata": {},
   "source": [
    "Question 2. Can Support Vector Machine (SVM) effectively perform multiclass classification? If so, explain\n",
    "the approach and techniques for successful implementation. If not, clarify the limitations or\n",
    "challenges that restrict SVM's suitability for multiclass classification tasks"
   ]
  },
  {
   "cell_type": "code",
   "execution_count": 129,
   "metadata": {},
   "outputs": [
    {
     "name": "stdout",
     "output_type": "stream",
     "text": [
      "For kernel=linear, gamma=10, model accuracy is 0.996\n",
      "For kernel=linear, gamma=100, model accuracy is 0.996\n",
      "For kernel=linear, gamma=1000, model accuracy is 0.996\n",
      "For kernel=poly, gamma=10, model accuracy is 1.000\n",
      "For kernel=poly, gamma=100, model accuracy is 1.000\n",
      "For kernel=poly, gamma=1000, model accuracy is 1.000\n",
      "For kernel=rbf, gamma=10, model accuracy is 1.000\n",
      "For kernel=rbf, gamma=100, model accuracy is 1.000\n",
      "For kernel=rbf, gamma=1000, model accuracy is 1.000\n",
      "For kernel=sigmoid, gamma=10, model accuracy is 0.971\n",
      "For kernel=sigmoid, gamma=100, model accuracy is 0.971\n",
      "For kernel=sigmoid, gamma=1000, model accuracy is 0.971\n",
      "\n",
      "Best hyperparameters: {'kernel': 'poly', 'gamma': 10}\n",
      "Best accuracy: 1.000\n"
     ]
    }
   ],
   "source": [
    "# SVM\n",
    "\n",
    "# Parameters to tune\n",
    "kernel = ['linear', 'poly', 'rbf', 'sigmoid']\n",
    "gamma_values = [10, 100, 1000]\n",
    "\n",
    "# Store best results\n",
    "best_accuracy = 0 \n",
    "best_params = {}\n",
    "\n",
    "# Loop through parameters to find best combination\n",
    "for k, g in product(kernel, gamma_values):\n",
    "    svc = SVC(kernel=k, gamma=g, random_state=42)\n",
    "    svc.fit(imputed_X_test, y_test)\n",
    "    y_pred = svc.predict(imputed_X_test)\n",
    "    accuracy = accuracy_score(y_test, y_pred)\n",
    "    print(f\"For kernel={k}, gamma={g}, model accuracy is {accuracy:.3f}\")\n",
    "\n",
    "    # Compate accuracy to current best, replace if higher\n",
    "    if accuracy > best_accuracy:\n",
    "        best_accuracy = accuracy\n",
    "        best_params = {'kernel': k, 'gamma': g}\n",
    "\n",
    "# Print the best hyperparameter combo and accuracy for that combo\n",
    "print(f\"\\nBest hyperparameters: {best_params}\")\n",
    "print(f\"Best accuracy: {best_accuracy:.3f}\")\n",
    "\n",
    "# Best hyperparameters: {'kernel': 'poly', 'gamma': 10}\n",
    "# Best accuracy: 1.000\n",
    "\n",
    "## rbf and poly are possibly overfit (both with an accuracy of 1.00)\n",
    "## Considering this, linear is the best kernel here (accuracy = 0.996)"
   ]
  },
  {
   "cell_type": "code",
   "execution_count": null,
   "metadata": {},
   "outputs": [
    {
     "name": "stdout",
     "output_type": "stream",
     "text": [
      "Accuracy:  0.993\n",
      "\n",
      "Classification report: \n",
      "               precision    recall  f1-score   support\n",
      "\n",
      "           0       0.99      1.00      1.00     14669\n",
      "           1       0.91      0.57      0.70       222\n",
      "\n",
      "    accuracy                           0.99     14891\n",
      "   macro avg       0.95      0.78      0.85     14891\n",
      "weighted avg       0.99      0.99      0.99     14891\n",
      "\n"
     ]
    }
   ],
   "source": [
    "# Optimally tuned SVC model\n",
    "\n",
    "svc = SVC(kernel='linear', gamma=10, random_state=42)\n",
    "svc.fit(imputed_X_train, y_train)\n",
    "\n",
    "y_pred = svc.predict(imputed_X_test)\n",
    "\n",
    "# Performance metrics\n",
    "print('Accuracy: ', round(accuracy_score(y_test, y_pred), 3))\n",
    "print('\\nClassification report: \\n', classification_report(y_test, y_pred))\n",
    "\n",
    "## Accuracy = 0.993"
   ]
  },
  {
   "cell_type": "markdown",
   "metadata": {},
   "source": [
    "Question 3. Analyse the importance of the features for predicting “class” using two different approaches.\n",
    "Explain the similarity/difference between outcomes"
   ]
  },
  {
   "cell_type": "code",
   "execution_count": null,
   "metadata": {},
   "outputs": [
    {
     "name": "stdout",
     "output_type": "stream",
     "text": [
      "Accuracy:  0.992\n",
      "              precision    recall  f1-score   support\n",
      "\n",
      "           0       0.99      1.00      1.00     14669\n",
      "           1       0.81      0.62      0.70       222\n",
      "\n",
      "    accuracy                           0.99     14891\n",
      "   macro avg       0.90      0.81      0.85     14891\n",
      "weighted avg       0.99      0.99      0.99     14891\n",
      "\n"
     ]
    }
   ],
   "source": [
    "##First approach - Feature importance with logistic regression (L2 regularisation/Ridge)\n",
    "\n",
    "# Run logistic regression with L2 regularisation\n",
    "logistic = LogisticRegression(penalty='l2', random_state=42).fit(imputed_X_train, y_train)\n",
    "log_pred = logistic.predict(imputed_X_test)\n",
    "\n",
    "# Performance metrics\n",
    "print('Accuracy: ', round(accuracy_score(y_test, log_pred), 3))\n",
    "print(classification_report (y_test, log_pred)) "
   ]
  },
  {
   "cell_type": "code",
   "execution_count": null,
   "metadata": {},
   "outputs": [
    {
     "data": {
      "image/png": "[encoded data removed]",
      "text/plain": [
       "<Figure size 1000x600 with 1 Axes>"
      ]
     },
     "metadata": {},
     "output_type": "display_data"
    }
   ],
   "source": [
    "# Plot top 15 feature importances\n",
    "feat_importances = pd.Series(logistic.coef_[0], index=X_train.columns)\n",
    "top_features_lr = feat_importances.nlargest(15)\n",
    "sns.set(style=\"whitegrid\")\n",
    "plt.figure(figsize=(10, 6))\n",
    "sns.barplot(x=top_features_lr.index, y=top_features_lr)\n",
    "plt.title(\"Top 15 feature importances\")\n",
    "plt.xlabel(\"Feature Importance\")\n",
    "plt.ylabel(\"Feature Name\")\n",
    "plt.show()"
   ]
  },
  {
   "cell_type": "code",
   "execution_count": null,
   "metadata": {},
   "outputs": [
    {
     "name": "stdout",
     "output_type": "stream",
     "text": [
      "Accuracy:  0.992\n",
      "              precision    recall  f1-score   support\n",
      "\n",
      "           0       0.99      1.00      1.00     14669\n",
      "           1       0.87      0.53      0.66       222\n",
      "\n",
      "    accuracy                           0.99     14891\n",
      "   macro avg       0.93      0.76      0.83     14891\n",
      "weighted avg       0.99      0.99      0.99     14891\n",
      "\n"
     ]
    }
   ],
   "source": [
    "## Second approach - Feature importance using random forest classifier\n",
    "\n",
    "# Run random forest classifier\n",
    "rand_forest = RandomForestClassifier(n_estimators=10, random_state=42)\n",
    "rand_forest.fit(imputed_X_train, y_train)\n",
    "y_pred = rand_forest.predict(imputed_X_test)\n",
    "\n",
    "# Performance metrics\n",
    "print('Accuracy: ', round(accuracy_score(y_test, y_pred), 3))\n",
    "print(classification_report (y_test, y_pred))"
   ]
  },
  {
   "cell_type": "code",
   "execution_count": null,
   "metadata": {},
   "outputs": [
    {
     "data": {
      "image/png": "[encoded data removed]",
      "text/plain": [
       "<Figure size 1000x600 with 1 Axes>"
      ]
     },
     "metadata": {},
     "output_type": "display_data"
    }
   ],
   "source": [
    "# Plot top 15 feature importances\n",
    "\n",
    "importances = rand_forest.feature_importances_\n",
    "forest_importances = pd.Series(importances, index=list(imputed_X_train.columns))\n",
    "top_features_rf = forest_importances.nlargest(15)\n",
    "sns.set(style=\"whitegrid\")\n",
    "plt.figure(figsize=(10, 6))\n",
    "sns.barplot(x=top_features_rf.index, y=top_features_rf)\n",
    "plt.title(\"Top 15 feature importances\")\n",
    "plt.xlabel(\"Feature Importance\")\n",
    "plt.ylabel(\"Feature Name\")\n",
    "plt.show()\n"
   ]
  },
  {
   "cell_type": "code",
   "execution_count": null,
   "metadata": {},
   "outputs": [
    {
     "name": "stdout",
     "output_type": "stream",
     "text": [
      "Top features from logistic regression: \n",
      " by_000    0.997139\n",
      "bs_000    0.699070\n",
      "ci_000    0.696384\n",
      "ag_003    0.694032\n",
      "aq_000    0.674741\n",
      "dt_000    0.472447\n",
      "cs_001    0.451924\n",
      "do_000    0.438330\n",
      "ee_002    0.432007\n",
      "ag_007    0.355793\n",
      "ee_005    0.349276\n",
      "am_0      0.324573\n",
      "ba_002    0.281319\n",
      "ca_000    0.261666\n",
      "ee_000    0.253367\n",
      "dtype: float64\n",
      "\n",
      "Top features from random forest: \n",
      " ag_002    0.061255\n",
      "ci_000    0.058572\n",
      "cq_000    0.033826\n",
      "bt_000    0.031920\n",
      "dn_000    0.027551\n",
      "ap_000    0.026565\n",
      "ah_000    0.026414\n",
      "aq_000    0.026070\n",
      "am_0      0.021921\n",
      "ag_001    0.021144\n",
      "al_000    0.020010\n",
      "cs_004    0.019429\n",
      "bj_000    0.017478\n",
      "cn_000    0.015667\n",
      "ay_008    0.015221\n",
      "dtype: float64\n"
     ]
    }
   ],
   "source": [
    "# Compare top features from both approaches\n",
    "print(\"Top features from logistic regression: \\n\", top_features_lr)\n",
    "print(\"\\nTop features from random forest: \\n\", top_features_rf)\n",
    "\n",
    "## As shown by the plots above and the printed top features for each approach below, the top 15 features are different for logistic regression and for random forest classifier.\n",
    "## This could be to do with differences in how each model works. Logistic regression is a linear model that makes predictions by assigning weights to each feature.\n",
    "## Random forest classifier makes predictions based on the average of multiple decision trees. \n",
    "## Both methods produced the same accuracy score (0.992)."
   ]
  },
  {
   "cell_type": "markdown",
   "metadata": {},
   "source": [
    "Question 4. Create three supervised machine learning (ML) models except any ensemble approach for\n",
    "predicting \"class\""
   ]
  },
  {
   "cell_type": "code",
   "execution_count": null,
   "metadata": {},
   "outputs": [
    {
     "name": "stdout",
     "output_type": "stream",
     "text": [
      "For criterion=gini, max_depth=2, model accuracy is 0.988\n",
      "For criterion=gini, max_depth=5, model accuracy is 0.991\n",
      "For criterion=gini, max_depth=10, model accuracy is 0.991\n",
      "For criterion=gini, max_depth=20, model accuracy is 0.990\n",
      "For criterion=gini, max_depth=50, model accuracy is 0.965\n",
      "For criterion=gini, max_depth=100, model accuracy is 0.965\n",
      "For criterion=gini, max_depth=None, model accuracy is 0.965\n",
      "For criterion=entropy, max_depth=2, model accuracy is 0.989\n",
      "For criterion=entropy, max_depth=5, model accuracy is 0.990\n",
      "For criterion=entropy, max_depth=10, model accuracy is 0.988\n",
      "For criterion=entropy, max_depth=20, model accuracy is 0.735\n",
      "For criterion=entropy, max_depth=50, model accuracy is 0.735\n",
      "For criterion=entropy, max_depth=100, model accuracy is 0.735\n",
      "For criterion=entropy, max_depth=None, model accuracy is 0.735\n",
      "\n",
      "Best hyperparameters: {'criterion': 'gini', 'max_depth': 10}\n",
      "Best accuracy: 0.991\n"
     ]
    }
   ],
   "source": [
    "## Supervised ML model one - Decision tree\n",
    "\n",
    "# Parameters to tune\n",
    "criterion = ['gini', 'entropy']\n",
    "max_depth = [2, 5, 10, 20, 50, 100, None]\n",
    "\n",
    "# Best results\n",
    "best_accuracy = 0\n",
    "best_params = {}\n",
    "\n",
    "# Loop through parameters to find best model\n",
    "for c, m in product(criterion, max_depth):\n",
    "    decision_tree = DecisionTreeClassifier(criterion=c, max_depth=m, random_state=42)\n",
    "    decision_tree.fit(imputed_X_train, y_train)\n",
    "    y_pred = decision_tree.predict(imputed_X_test)\n",
    "    accuracy = accuracy_score(y_test, y_pred)\n",
    "    print(f\"For criterion={c}, max_depth={m}, model accuracy is {accuracy:.3f}\")\n",
    "\n",
    "    # Compare accuracy to current best, replace if higher\n",
    "    if accuracy > best_accuracy:\n",
    "        best_accuracy = accuracy\n",
    "        best_params = {'criterion': c, 'max_depth': m}\n",
    "\n",
    "# Print the best hyperparameter combo and accuracy for that combo\n",
    "print(f\"\\nBest hyperparameters: {best_params}\")\n",
    "print(f\"Best accuracy: {best_accuracy:.3f}\")\n",
    "\n",
    "# Best hyperparameters: {'criterion': 'gini', 'max_depth': 10}\n",
    "# Best accuracy: 0.991"
   ]
  },
  {
   "cell_type": "code",
   "execution_count": null,
   "metadata": {},
   "outputs": [
    {
     "name": "stdout",
     "output_type": "stream",
     "text": [
      "Accuracy:  0.991\n",
      "              precision    recall  f1-score   support\n",
      "\n",
      "           0       0.99      1.00      1.00     14669\n",
      "           1       0.82      0.51      0.63       222\n",
      "\n",
      "    accuracy                           0.99     14891\n",
      "   macro avg       0.91      0.76      0.81     14891\n",
      "weighted avg       0.99      0.99      0.99     14891\n",
      "\n"
     ]
    }
   ],
   "source": [
    "# Decision with with best hyperparameters\n",
    "decision_tree = DecisionTreeClassifier(criterion='gini', max_depth=10, random_state=42)\n",
    "decision_tree.fit(imputed_X_train, y_train)\n",
    "y_pred = decision_tree.predict(imputed_X_test)\n",
    "\n",
    "# Performance metrics\n",
    "print('Accuracy: ', round(accuracy_score(y_test, y_pred), 3))\n",
    "print(classification_report (y_test, y_pred))"
   ]
  },
  {
   "cell_type": "code",
   "execution_count": null,
   "metadata": {},
   "outputs": [
    {
     "name": "stdout",
     "output_type": "stream",
     "text": [
      "Accuracy:  0.993\n",
      "\n",
      "Classification report: \n",
      "               precision    recall  f1-score   support\n",
      "\n",
      "           0       0.99      1.00      1.00     14669\n",
      "           1       0.81      0.66      0.73       222\n",
      "\n",
      "    accuracy                           0.99     14891\n",
      "   macro avg       0.90      0.83      0.86     14891\n",
      "weighted avg       0.99      0.99      0.99     14891\n",
      "\n"
     ]
    }
   ],
   "source": [
    "## Supervised ML model two - Logistic regression (using optimised hyperparameters found in Q1)\n",
    "\n",
    "# Run logistic regression with newton-cholesky solver and L2 regularisation\n",
    "log_reg = LogisticRegression(solver='newton-cholesky', penalty='l2', C=10, random_state=42)\n",
    "log_reg.fit(imputed_X_train, y_train)\n",
    "y_pred = log_reg.predict(imputed_X_test)\n",
    "\n",
    "# Performance metrics\n",
    "print('Accuracy: ', round(accuracy_score(y_test, y_pred), 3))\n",
    "print('\\nClassification report: \\n', classification_report(y_test, y_pred))"
   ]
  },
  {
   "cell_type": "code",
   "execution_count": null,
   "metadata": {},
   "outputs": [
    {
     "name": "stdout",
     "output_type": "stream",
     "text": [
      "For priors=None, smoothing=1.0, model accuracy is 0.985\n",
      "For priors=None, smoothing=0.1, model accuracy is 0.981\n",
      "For priors=None, smoothing=0.01, model accuracy is 0.977\n",
      "For priors=None, smoothing=0.001, model accuracy is 0.979\n",
      "For priors=None, smoothing=0.0001, model accuracy is 0.981\n",
      "For priors=None, smoothing=1e-05, model accuracy is 0.983\n",
      "For priors=None, smoothing=1e-06, model accuracy is 0.985\n",
      "For priors=None, smoothing=1e-07, model accuracy is 0.985\n",
      "For priors=None, smoothing=1e-08, model accuracy is 0.985\n",
      "For priors=None, smoothing=1e-09, model accuracy is 0.985\n",
      "\n",
      "Best hyperparameters: {'priors': None, 'smoothing': 1.0}\n",
      "Best accuracy: 0.985\n"
     ]
    }
   ],
   "source": [
    "## Supervised ML model three - Naive Bayes\n",
    "\n",
    "# Parameters to tune\n",
    "priors = [None]\n",
    "smoothing = [1.e+00, 1.e-01, 1.e-02, 1.e-03, 1.e-04, 1.e-05, 1.e-06, 1.e-07,\n",
    "       1.e-08, 1.e-09]\n",
    "\n",
    "# Best results\n",
    "best_accuracy = 0\n",
    "best_params = {}\n",
    "\n",
    "# Loop through parameters to find best model\n",
    "for p, s in product(priors, smoothing):\n",
    "    naive_bayes = GaussianNB(priors=p, var_smoothing=s)\n",
    "    naive_bayes.fit(imputed_X_train, y_train)\n",
    "    y_pred = naive_bayes.predict(imputed_X_test)\n",
    "    accuracy = accuracy_score(y_test, y_pred)\n",
    "    print(f\"For priors={p}, smoothing={s}, model accuracy is {accuracy:.3f}\")\n",
    "\n",
    "    # Compare accuracy to current best, replace if higher\n",
    "    if accuracy > best_accuracy:\n",
    "        best_accuracy = accuracy\n",
    "        best_params = {'priors': p, 'smoothing': s}\n",
    "\n",
    "# Print the best hyperparameter combo and accuracy for that combo\n",
    "print(f\"\\nBest hyperparameters: {best_params}\")\n",
    "print(f\"Best accuracy: {best_accuracy:.3f}\")\n",
    "\n",
    "# Best hyperparameters: {'priors': None, 'smoothing': 1.0}\n",
    "# Best accuracy: 0.985"
   ]
  },
  {
   "cell_type": "code",
   "execution_count": null,
   "metadata": {},
   "outputs": [
    {
     "name": "stdout",
     "output_type": "stream",
     "text": [
      "Accuracy:  0.985\n",
      "              precision    recall  f1-score   support\n",
      "\n",
      "           0       0.99      0.99      0.99     14669\n",
      "           1       0.52      0.40      0.45       222\n",
      "\n",
      "    accuracy                           0.99     14891\n",
      "   macro avg       0.75      0.70      0.72     14891\n",
      "weighted avg       0.98      0.99      0.98     14891\n",
      "\n"
     ]
    }
   ],
   "source": [
    "## Naive bayes model with optimised hyperparamters\n",
    "\n",
    "# Naive Bayes classifier\n",
    "naive_bayes = GaussianNB(priors=None, var_smoothing=1.0) # change here\n",
    "naive_bayes.fit(imputed_X_train, y_train)\n",
    "y_pred = naive_bayes.predict(imputed_X_test)\n",
    "\n",
    "# Performance metrics\n",
    "print('Accuracy: ', round(accuracy_score(y_test, y_pred), 3))\n",
    "print(classification_report (y_test, y_pred))\n",
    "\n",
    "## Accuracy:  0.985"
   ]
  },
  {
   "cell_type": "markdown",
   "metadata": {},
   "source": [
    "Question 5. Build three ensemble models including voting classifier for predicting “class”.\n",
    "\n",
    "a. When do you want to use ensemble models over other ML models? Explain based on the\n",
    "models that you have used in Q4 and Q5.\n",
    "\n",
    "b. What are the similarities or differences between among used ensemble models in Q5?\n",
    "\n",
    "c. Is there any preferable scenario for using any specific model among the set of ensemble\n",
    "models? Explain based on obtained outcomes.\n",
    "\n",
    "d. Write a report comparing performances of models built in question 4 and 5. Report the best\n",
    "method based on model complexity and performance.\n",
    "\n",
    "e. Is it possible to build ensemble model using ML classifiers other than decision tree? If yes,\n",
    "then explain with an example. "
   ]
  },
  {
   "cell_type": "code",
   "execution_count": null,
   "metadata": {},
   "outputs": [
    {
     "name": "stdout",
     "output_type": "stream",
     "text": [
      "For n_estimators=50, learning_rate=0.001, model accuracy is 0.985\n",
      "For n_estimators=50, learning_rate=0.01, model accuracy is 0.985\n",
      "For n_estimators=50, learning_rate=0.1, model accuracy is 0.988\n",
      "For n_estimators=50, learning_rate=1, model accuracy is 0.989\n",
      "For n_estimators=50, learning_rate=10, model accuracy is 0.985\n",
      "For n_estimators=100, learning_rate=0.001, model accuracy is 0.985\n",
      "For n_estimators=100, learning_rate=0.01, model accuracy is 0.985\n",
      "For n_estimators=100, learning_rate=0.1, model accuracy is 0.989\n",
      "For n_estimators=100, learning_rate=1, model accuracy is 0.990\n",
      "For n_estimators=100, learning_rate=10, model accuracy is 0.985\n",
      "For n_estimators=200, learning_rate=0.001, model accuracy is 0.985\n",
      "For n_estimators=200, learning_rate=0.01, model accuracy is 0.985\n",
      "For n_estimators=200, learning_rate=0.1, model accuracy is 0.990\n",
      "For n_estimators=200, learning_rate=1, model accuracy is 0.991\n",
      "For n_estimators=200, learning_rate=10, model accuracy is 0.985\n",
      "For n_estimators=500, learning_rate=0.001, model accuracy is 0.985\n",
      "For n_estimators=500, learning_rate=0.01, model accuracy is 0.988\n",
      "For n_estimators=500, learning_rate=0.1, model accuracy is 0.990\n",
      "For n_estimators=500, learning_rate=1, model accuracy is 0.992\n",
      "For n_estimators=500, learning_rate=10, model accuracy is 0.985\n",
      "For n_estimators=1000, learning_rate=0.001, model accuracy is 0.985\n",
      "For n_estimators=1000, learning_rate=0.01, model accuracy is 0.989\n",
      "For n_estimators=1000, learning_rate=0.1, model accuracy is 0.991\n",
      "For n_estimators=1000, learning_rate=1, model accuracy is 0.990\n",
      "For n_estimators=1000, learning_rate=10, model accuracy is 0.985\n",
      "\n",
      "Best hyperparameters: {'n_estimators': 500, 'learning_rate': 1}\n",
      "Best accuracy: 0.992\n"
     ]
    }
   ],
   "source": [
    "## Ensemble model 1 - AdaBoost\n",
    "\n",
    "# Parameters to tune\n",
    "n_estimators = [50, 100, 200, 500, 1000]\n",
    "learning_rate = [0.001, 0.01, 0.1, 1, 10]\n",
    "\n",
    "# Best results\n",
    "best_accuracy = 0\n",
    "best_params = {}\n",
    "\n",
    "# Loop through parameters to find best model\n",
    "for n, l in product(n_estimators, learning_rate):\n",
    "    ada_boost = AdaBoostClassifier(n_estimators=n, learning_rate=l, random_state=42)\n",
    "    ada_boost.fit(imputed_X_train, y_train)\n",
    "    y_pred = ada_boost.predict(imputed_X_test)\n",
    "    accuracy = accuracy_score(y_test, y_pred)\n",
    "    print(f\"For n_estimators={n}, learning_rate={l}, model accuracy is {accuracy:.3f}\")\n",
    "\n",
    "    # Compare accuracy to current best, replace if higher\n",
    "    if accuracy > best_accuracy:\n",
    "        best_accuracy = accuracy\n",
    "        best_params = {'n_estimators': n, 'learning_rate': l}\n",
    "\n",
    "# Print the best hyperparameter combo and accuracy for that combo\n",
    "print(f\"\\nBest hyperparameters: {best_params}\")\n",
    "print(f\"Best accuracy: {best_accuracy:.3f}\")\n",
    "\n",
    "# Best hyperparameters: {'n_estimators': 500, 'learning_rate': 1}\n",
    "# Best accuracy: 0.992"
   ]
  },
  {
   "cell_type": "code",
   "execution_count": null,
   "metadata": {},
   "outputs": [
    {
     "ename": "NameError",
     "evalue": "name 'imputed_X_train' is not defined",
     "output_type": "error",
     "traceback": [
      "\u001b[1;31m---------------------------------------------------------------------------\u001b[0m",
      "\u001b[1;31mNameError\u001b[0m                                 Traceback (most recent call last)",
      "\u001b[1;32mc:\\Users\\elliott\\SIT720\\s223949434_5-2D.ipynb Cell 46\u001b[0m line \u001b[0;36m4\n\u001b[0;32m      <a href='vscode-notebook-cell:/c%3A/Users/elliott/SIT720/s223949434_5-2D.ipynb#X63sZmlsZQ%3D%3D?line=0'>1</a>\u001b[0m \u001b[39m## AdaBoost with tuned hyperparameters\u001b[39;00m\n\u001b[0;32m      <a href='vscode-notebook-cell:/c%3A/Users/elliott/SIT720/s223949434_5-2D.ipynb#X63sZmlsZQ%3D%3D?line=2'>3</a>\u001b[0m ada_boost \u001b[39m=\u001b[39m AdaBoostClassifier(n_estimators\u001b[39m=\u001b[39m\u001b[39m500\u001b[39m, learning_rate\u001b[39m=\u001b[39m\u001b[39m1\u001b[39m, random_state\u001b[39m=\u001b[39m\u001b[39m42\u001b[39m)\n\u001b[1;32m----> <a href='vscode-notebook-cell:/c%3A/Users/elliott/SIT720/s223949434_5-2D.ipynb#X63sZmlsZQ%3D%3D?line=3'>4</a>\u001b[0m ada_boost\u001b[39m.\u001b[39mfit(imputed_X_train, y_train)\n\u001b[0;32m      <a href='vscode-notebook-cell:/c%3A/Users/elliott/SIT720/s223949434_5-2D.ipynb#X63sZmlsZQ%3D%3D?line=4'>5</a>\u001b[0m y_pred \u001b[39m=\u001b[39m ada_boost\u001b[39m.\u001b[39mpredict(imputed_X_test)\n\u001b[0;32m      <a href='vscode-notebook-cell:/c%3A/Users/elliott/SIT720/s223949434_5-2D.ipynb#X63sZmlsZQ%3D%3D?line=6'>7</a>\u001b[0m \u001b[39m# Performance metrics\u001b[39;00m\n",
      "\u001b[1;31mNameError\u001b[0m: name 'imputed_X_train' is not defined"
     ]
    }
   ],
   "source": [
    "## AdaBoost with tuned hyperparameters\n",
    "\n",
    "ada_boost = AdaBoostClassifier(n_estimators=500, learning_rate=1, random_state=42)\n",
    "ada_boost.fit(imputed_X_train, y_train)\n",
    "y_pred = ada_boost.predict(imputed_X_test)\n",
    "\n",
    "# Performance metrics\n",
    "print('Accuracy: ', round(accuracy_score(y_test, y_pred), 3))\n",
    "print(classification_report (y_test, y_pred))\n",
    "\n",
    "## Accuracy:  0.992"
   ]
  },
  {
   "cell_type": "code",
   "execution_count": 146,
   "metadata": {},
   "outputs": [
    {
     "name": "stdout",
     "output_type": "stream",
     "text": [
      "For hidden_layer_sizes=(10, 10, 10, 10, 10, 10, 10, 10, 10, 10), activation=identity, model accuracy is 0.992\n",
      "For hidden_layer_sizes=(10, 10, 10, 10, 10, 10, 10, 10, 10, 10), activation=logistic, model accuracy is 0.985\n",
      "For hidden_layer_sizes=(10, 10, 10, 10, 10, 10, 10, 10, 10, 10), activation=tanh, model accuracy is 0.982\n",
      "For hidden_layer_sizes=(10, 10, 10, 10, 10, 10, 10, 10, 10, 10), activation=relu, model accuracy is 0.992\n",
      "For hidden_layer_sizes=(25, 25, 25, 25, 25, 25, 25, 25, 25, 25), activation=identity, model accuracy is 0.991\n",
      "For hidden_layer_sizes=(25, 25, 25, 25, 25, 25, 25, 25, 25, 25), activation=logistic, model accuracy is 0.985\n",
      "For hidden_layer_sizes=(25, 25, 25, 25, 25, 25, 25, 25, 25, 25), activation=tanh, model accuracy is 0.990\n",
      "For hidden_layer_sizes=(25, 25, 25, 25, 25, 25, 25, 25, 25, 25), activation=relu, model accuracy is 0.992\n",
      "For hidden_layer_sizes=(100, 100, 100, 100, 100, 100, 100, 100, 100, 100), activation=identity, model accuracy is 0.992\n",
      "For hidden_layer_sizes=(100, 100, 100, 100, 100, 100, 100, 100, 100, 100), activation=logistic, model accuracy is 0.985\n",
      "For hidden_layer_sizes=(100, 100, 100, 100, 100, 100, 100, 100, 100, 100), activation=tanh, model accuracy is 0.977\n",
      "For hidden_layer_sizes=(100, 100, 100, 100, 100, 100, 100, 100, 100, 100), activation=relu, model accuracy is 0.994\n",
      "\n",
      "Best hyperparameters: {'hidden_layer_sizes': (100, 100, 100, 100, 100, 100, 100, 100, 100, 100), 'activation': 'relu'}\n",
      "Best accuracy: 0.994\n"
     ]
    }
   ],
   "source": [
    "## Ensemble model 2 - MLP\n",
    "\n",
    "# Parameters to tune\n",
    "hidden_layer_sizes = [(10,10,10,10,10,10,10,10,10,10),\n",
    "                      (25,25,25,25,25,25,25,25,25,25),\n",
    "                      (100,100,100,100,100,100,100,100,100,100)]\n",
    "activation = ['identity', 'logistic', 'tanh', 'relu']\n",
    "\n",
    "# Best results\n",
    "best_accuracy = 0\n",
    "best_params = {}\n",
    "\n",
    "# Loop through parameters to find best model\n",
    "for h, a in product(hidden_layer_sizes, activation):\n",
    "    mlp = MLPClassifier(hidden_layer_sizes=h, activation=a, random_state=42)\n",
    "    mlp.fit(imputed_X_train, y_train)\n",
    "    y_pred = mlp.predict(imputed_X_test)\n",
    "    accuracy = accuracy_score(y_test, y_pred)\n",
    "    print(f\"For hidden_layer_sizes={h}, activation={a}, model accuracy is {accuracy:.3f}\")\n",
    "\n",
    "    # Compare accuracy to current best, replace if higher\n",
    "    if accuracy > best_accuracy:\n",
    "        best_accuracy = accuracy\n",
    "        best_params = {'hidden_layer_sizes': h, 'activation': a}\n",
    "\n",
    "# Print the best hyperparameter combo and accuracy for that combo\n",
    "print(f\"\\nBest hyperparameters: {best_params}\")\n",
    "print(f\"Best accuracy: {best_accuracy:.3f}\")\n",
    "\n",
    "# Best hyperparameters: {'hidden_layer_sizes': (100, 100, 100, 100, 100, 100, 100, 100, 100, 100), 'activation': 'relu'}\n",
    "# Best accuracy: 0.994"
   ]
  },
  {
   "cell_type": "code",
   "execution_count": null,
   "metadata": {},
   "outputs": [
    {
     "name": "stdout",
     "output_type": "stream",
     "text": [
      "Accuracy:  0.994\n",
      "              precision    recall  f1-score   support\n",
      "\n",
      "           0       1.00      1.00      1.00     14669\n",
      "           1       0.86      0.68      0.76       222\n",
      "\n",
      "    accuracy                           0.99     14891\n",
      "   macro avg       0.93      0.84      0.88     14891\n",
      "weighted avg       0.99      0.99      0.99     14891\n",
      "\n"
     ]
    }
   ],
   "source": [
    "# Optimally tuned MLP model\n",
    "\n",
    "mlp = MLPClassifier(hidden_layer_sizes=(100, 100, 100, 100, 100, 100, 100, 100, 100, 100), activation='relu', random_state=42)\n",
    "mlp.fit(imputed_X_train, y_train)\n",
    "y_pred = mlp.predict(imputed_X_test)\n",
    "\n",
    "# Performance metrics\n",
    "print('Accuracy: ', round(accuracy_score(y_test, y_pred), 3))\n",
    "print(classification_report (y_test, y_pred))\n",
    "\n",
    "## Accuracy = 0.994"
   ]
  },
  {
   "cell_type": "code",
   "execution_count": null,
   "metadata": {},
   "outputs": [
    {
     "name": "stdout",
     "output_type": "stream",
     "text": [
      "Accuracy:  0.994\n",
      "\n",
      "Classification report: \n",
      "               precision    recall  f1-score   support\n",
      "\n",
      "           0       0.99      1.00      1.00     14669\n",
      "           1       0.89      0.65      0.75       222\n",
      "\n",
      "    accuracy                           0.99     14891\n",
      "   macro avg       0.94      0.83      0.88     14891\n",
      "weighted avg       0.99      0.99      0.99     14891\n",
      "\n"
     ]
    }
   ],
   "source": [
    "## Ensemble model 3 - Random forest (using optimal hyperparameters found in Q1)\n",
    "\n",
    "# Optimally tuned random forest model\n",
    "rand_forest = RandomForestClassifier(n_estimators=500, criterion='gini', max_features=None, random_state=42)\n",
    "rand_forest.fit(imputed_X_train, y_train)\n",
    "y_pred = rand_forest.predict(imputed_X_test)\n",
    "\n",
    "# Performance metrics\n",
    "print('Accuracy: ', round(accuracy_score(y_test, y_pred), 3))\n",
    "print('\\nClassification report: \\n', classification_report(y_test, y_pred))"
   ]
  }
 ],
 "metadata": {
  "kernelspec": {
   "display_name": "Python 3 (ipykernel)",
   "language": "python",
   "name": "python3"
  },
  "language_info": {
   "codemirror_mode": {
    "name": "ipython",
    "version": 3
   },
   "file_extension": ".py",
   "mimetype": "text/x-python",
   "name": "python",
   "nbconvert_exporter": "python",
   "pygments_lexer": "ipython3",
   "version": "3.11.4"
  }
 },
 "nbformat": 4,
 "nbformat_minor": 2
}
