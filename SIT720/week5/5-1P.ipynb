{
 "cells": [
  {
   "cell_type": "markdown",
   "metadata": {},
   "source": [
    " # 5.1P\n",
    " \n",
    " 1. Load the dataset from “data_5.csv”.  Create training and test datasets using random splitting (80-20)%. Print the  number of samples in train and test data group by \"roof_type\".\n",
    "\n",
    " 2.  Create training and test dataset using leave 5 \"property_id\" out for testing and rest of them for training. Print the train and test dataset for the first iteration only. Compare with Q-1 in terms of the number of training and testing samples using bar graph."
   ]
  },
  {
   "cell_type": "code",
   "execution_count": 1,
   "metadata": {},
   "outputs": [],
   "source": [
    "# Import modules\n",
    "import pandas as pd\n",
    "from sklearn.model_selection import train_test_split\n",
    "import matplotlib.pyplot as plt\n",
    "\n",
    "# Ignore warnings\n",
    "import warnings\n",
    "warnings.filterwarnings('ignore')"
   ]
  },
  {
   "cell_type": "markdown",
   "metadata": {},
   "source": [
    "### Question 1"
   ]
  },
  {
   "cell_type": "code",
   "execution_count": 2,
   "metadata": {},
   "outputs": [
    {
     "data": {
      "text/html": [
       "<div>\n",
       "<style scoped>\n",
       "    .dataframe tbody tr th:only-of-type {\n",
       "        vertical-align: middle;\n",
       "    }\n",
       "\n",
       "    .dataframe tbody tr th {\n",
       "        vertical-align: top;\n",
       "    }\n",
       "\n",
       "    .dataframe thead th {\n",
       "        text-align: right;\n",
       "    }\n",
       "</style>\n",
       "<table border=\"1\" class=\"dataframe\">\n",
       "  <thead>\n",
       "    <tr style=\"text-align: right;\">\n",
       "      <th></th>\n",
       "      <th>structure_max_elevation</th>\n",
       "      <th>footprint_max_elevation</th>\n",
       "      <th>structure_min_elevation</th>\n",
       "      <th>property_id</th>\n",
       "      <th>footprint_extrusion</th>\n",
       "      <th>footprint_min_elevation</th>\n",
       "      <th>structure_extrusion</th>\n",
       "      <th>roof_type</th>\n",
       "    </tr>\n",
       "  </thead>\n",
       "  <tbody>\n",
       "    <tr>\n",
       "      <th>0</th>\n",
       "      <td>30.5</td>\n",
       "      <td>30.5</td>\n",
       "      <td>17.5</td>\n",
       "      <td>109953</td>\n",
       "      <td>13.5</td>\n",
       "      <td>17.5</td>\n",
       "      <td>13.0</td>\n",
       "      <td>Flat</td>\n",
       "    </tr>\n",
       "    <tr>\n",
       "      <th>1</th>\n",
       "      <td>32.5</td>\n",
       "      <td>26.5</td>\n",
       "      <td>18.0</td>\n",
       "      <td>105685</td>\n",
       "      <td>9.0</td>\n",
       "      <td>18.0</td>\n",
       "      <td>8.5</td>\n",
       "      <td>Flat</td>\n",
       "    </tr>\n",
       "    <tr>\n",
       "      <th>2</th>\n",
       "      <td>32.5</td>\n",
       "      <td>32.5</td>\n",
       "      <td>18.0</td>\n",
       "      <td>105685</td>\n",
       "      <td>5.5</td>\n",
       "      <td>26.5</td>\n",
       "      <td>14.5</td>\n",
       "      <td>Hip</td>\n",
       "    </tr>\n",
       "    <tr>\n",
       "      <th>3</th>\n",
       "      <td>20.5</td>\n",
       "      <td>19.5</td>\n",
       "      <td>17.0</td>\n",
       "      <td>104550</td>\n",
       "      <td>2.0</td>\n",
       "      <td>17.0</td>\n",
       "      <td>2.5</td>\n",
       "      <td>Flat</td>\n",
       "    </tr>\n",
       "    <tr>\n",
       "      <th>4</th>\n",
       "      <td>24.5</td>\n",
       "      <td>23.5</td>\n",
       "      <td>17.0</td>\n",
       "      <td>104870</td>\n",
       "      <td>6.0</td>\n",
       "      <td>17.0</td>\n",
       "      <td>6.5</td>\n",
       "      <td>Flat</td>\n",
       "    </tr>\n",
       "  </tbody>\n",
       "</table>\n",
       "</div>"
      ],
      "text/plain": [
       "   structure_max_elevation  footprint_max_elevation  structure_min_elevation  \\\n",
       "0                     30.5                     30.5                     17.5   \n",
       "1                     32.5                     26.5                     18.0   \n",
       "2                     32.5                     32.5                     18.0   \n",
       "3                     20.5                     19.5                     17.0   \n",
       "4                     24.5                     23.5                     17.0   \n",
       "\n",
       "   property_id  footprint_extrusion  footprint_min_elevation  \\\n",
       "0       109953                 13.5                     17.5   \n",
       "1       105685                  9.0                     18.0   \n",
       "2       105685                  5.5                     26.5   \n",
       "3       104550                  2.0                     17.0   \n",
       "4       104870                  6.0                     17.0   \n",
       "\n",
       "   structure_extrusion roof_type  \n",
       "0                 13.0      Flat  \n",
       "1                  8.5      Flat  \n",
       "2                 14.5       Hip  \n",
       "3                  2.5      Flat  \n",
       "4                  6.5      Flat  "
      ]
     },
     "execution_count": 2,
     "metadata": {},
     "output_type": "execute_result"
    }
   ],
   "source": [
    "# Load the dataset\n",
    "df = pd.read_csv('../data/data_5.csv')\n",
    "\n",
    "# Show head\n",
    "df.head()"
   ]
  },
  {
   "cell_type": "code",
   "execution_count": 3,
   "metadata": {},
   "outputs": [
    {
     "name": "stdout",
     "output_type": "stream",
     "text": [
      "Number of training samples: roof_type\n",
      "Flat       1663\n",
      "Gable       423\n",
      "Hip         301\n",
      "Pyramid      10\n",
      "Shed          3\n",
      "dtype: int64\n",
      "Total:  2400\n",
      "\n",
      "Number of testing samples: roof_type\n",
      "Flat       410\n",
      "Gable      107\n",
      "Hip         80\n",
      "Pyramid      2\n",
      "Shed         1\n",
      "dtype: int64\n",
      "Total:  600\n"
     ]
    }
   ],
   "source": [
    "# Create training and test datasets using random splitting (80-20)%\n",
    "training_data, testing_data = train_test_split(df, test_size=0.2, random_state=25)\n",
    "\n",
    "# Print the  number of samples in train and test data group by \"roof_type\"\n",
    "print(f\"Number of training samples: {training_data.groupby('roof_type').size()}\")\n",
    "print(\"Total: \", training_data.shape[0])\n",
    "print(f\"\\nNumber of testing samples: {testing_data.groupby('roof_type').size()}\")\n",
    "print(\"Total: \", testing_data.shape[0])"
   ]
  },
  {
   "cell_type": "markdown",
   "metadata": {},
   "source": [
    "### Question 2"
   ]
  },
  {
   "cell_type": "markdown",
   "metadata": {},
   "source": [
    "_**Create training and test dataset using leave 5 \"property_id\" out for testing and rest of them for training**_"
   ]
  },
  {
   "cell_type": "code",
   "execution_count": 4,
   "metadata": {},
   "outputs": [
    {
     "data": {
      "text/plain": [
       "(16, 8)"
      ]
     },
     "execution_count": 4,
     "metadata": {},
     "output_type": "execute_result"
    }
   ],
   "source": [
    "# Test data - Split dataset so that the first 5 property_id are in the test dataset and the rest are in the training dataset\n",
    "\n",
    "# Add rows for which property_id is 105685, 110742, 104550, and 104870 to drop_property_id dataframe\n",
    "testing_data2 = df.loc[df['property_id'] == 109953]\n",
    "testing_data2 = testing_data2.append(df.loc[df['property_id'] == 105685])\n",
    "testing_data2 = testing_data2.append(df.loc[df['property_id'] == 110742])\n",
    "testing_data2 = testing_data2.append(df.loc[df['property_id'] == 104550])\n",
    "testing_data2 = testing_data2.append(df.loc[df['property_id'] == 104870])\n",
    "\n",
    "testing_data2.head()\n",
    "testing_data2.shape"
   ]
  },
  {
   "cell_type": "code",
   "execution_count": 5,
   "metadata": {},
   "outputs": [
    {
     "name": "stdout",
     "output_type": "stream",
     "text": [
      "(2995, 8)\n",
      "(16, 8)\n",
      "Number of training samples: roof_type\n",
      "Flat       1663\n",
      "Gable       423\n",
      "Hip         301\n",
      "Pyramid      10\n",
      "Shed          3\n",
      "dtype: int64\n",
      "Total:  2400\n",
      "\n",
      "Number of testing samples: roof_type\n",
      "Flat       410\n",
      "Gable      107\n",
      "Hip         80\n",
      "Pyramid      2\n",
      "Shed         1\n",
      "dtype: int64\n",
      "Total:  600\n"
     ]
    }
   ],
   "source": [
    "# Training data - Split dataset so that the first 5 property_id are in the test dataset and the rest are in the training dataset\n",
    "training_data2 = df.iloc[5:]\n",
    "\n",
    "print(training_data2.shape)\n",
    "print(testing_data2.shape)\n",
    "\n",
    "# Print the number of samples in train and test data group by \"roof_type\"\n",
    "print(f\"Number of training samples: {training_data.groupby('roof_type').size()}\")\n",
    "print(\"Total: \", training_data.shape[0])\n",
    "print(f\"\\nNumber of testing samples: {testing_data.groupby('roof_type').size()}\")\n",
    "print(\"Total: \", testing_data.shape[0])"
   ]
  },
  {
   "cell_type": "markdown",
   "metadata": {},
   "source": [
    "_**Print the train and test dataset for the first iteration only**_"
   ]
  },
  {
   "cell_type": "code",
   "execution_count": 6,
   "metadata": {},
   "outputs": [
    {
     "name": "stdout",
     "output_type": "stream",
     "text": [
      "Training dataset - first row: \n",
      "       structure_max_elevation  footprint_max_elevation  \\\n",
      "1963                     23.5                     23.5   \n",
      "\n",
      "      structure_min_elevation  property_id  footprint_extrusion  \\\n",
      "1963                     14.0       576311                  9.5   \n",
      "\n",
      "      footprint_min_elevation  structure_extrusion roof_type  \n",
      "1963                     14.0                  9.5      Flat  \n",
      "\n",
      "Testing dataset - first row: \n",
      "       structure_max_elevation  footprint_max_elevation  \\\n",
      "1389                    215.0                    215.0   \n",
      "\n",
      "      structure_min_elevation  property_id  footprint_extrusion  \\\n",
      "1389                     26.5       108566                  3.0   \n",
      "\n",
      "      footprint_min_elevation  structure_extrusion roof_type  \n",
      "1389                    212.0                188.5      Flat  \n"
     ]
    }
   ],
   "source": [
    "# Print the train and test dataset for the first iteration only\n",
    "print(\"Training dataset - first row: \\n\", training_data[:1])\n",
    "print(\"\\nTesting dataset - first row: \\n\", testing_data[:1])"
   ]
  },
  {
   "cell_type": "markdown",
   "metadata": {},
   "source": [
    "_**Compare with Q-1 in terms of the number of training and testing samples using bar graph**_"
   ]
  },
  {
   "cell_type": "code",
   "execution_count": 7,
   "metadata": {},
   "outputs": [
    {
     "data": {
      "image/png": "[encoded data removed]",
      "text/plain": [
       "<Figure size 1000x600 with 1 Axes>"
      ]
     },
     "metadata": {},
     "output_type": "display_data"
    }
   ],
   "source": [
    "# Names for the datasets (x-axis)\n",
    "datasets = ['Q1: training_data', 'Q1: testing_data', 'Q2: training_data2', 'Q2: testing_data2']\n",
    "\n",
    "# Number of samples in each dataset (y-axis)\n",
    "samples = [training_data.shape[0], testing_data.shape[0], training_data2.shape[0], testing_data2.shape[0]]\n",
    "\n",
    "# Create and show bar graph\n",
    "plt.figure(figsize=(10, 6))\n",
    "plt.bar(datasets, samples)\n",
    "plt.xlabel('Datasets')\n",
    "plt.ylabel('Number of Samples')\n",
    "plt.title('Compare train and test sample counts for Q1 and Q2')\n",
    "plt.show()\n",
    "\n"
   ]
  }
 ],
 "metadata": {
  "kernelspec": {
   "display_name": "Python 3 (ipykernel)",
   "language": "python",
   "name": "python3"
  },
  "language_info": {
   "codemirror_mode": {
    "name": "ipython",
    "version": 3
   },
   "file_extension": ".py",
   "mimetype": "text/x-python",
   "name": "python",
   "nbconvert_exporter": "python",
   "pygments_lexer": "ipython3",
   "version": "3.11.4"
  }
 },
 "nbformat": 4,
 "nbformat_minor": 2
}
